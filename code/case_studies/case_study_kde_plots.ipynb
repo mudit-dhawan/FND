{
 "cells": [
  {
   "cell_type": "code",
   "execution_count": 1,
   "id": "naked-satellite",
   "metadata": {},
   "outputs": [],
   "source": [
    "import os \n",
    "os.environ[\"CUDA_DEVICE_ORDER\"]=\"PCI_BUS_ID\" \n",
    "os.environ[\"CUDA_VISIBLE_DEVICES\"]=\"1,3,7\""
   ]
  },
  {
   "cell_type": "code",
   "execution_count": 2,
   "id": "adjusted-quebec",
   "metadata": {},
   "outputs": [],
   "source": [
    "import sys\n",
    "import torch\n",
    "import pandas as pd\n",
    "import numpy as np\n",
    "import random \n",
    "from torch.utils.data import DataLoader\n",
    "import torch.nn as nn\n",
    "import misc_title"
   ]
  },
  {
   "cell_type": "code",
   "execution_count": 3,
   "id": "amateur-desktop",
   "metadata": {},
   "outputs": [],
   "source": [
    "from sklearn.manifold import TSNE\n",
    "import matplotlib.pyplot as plt\n",
    "import seaborn as sns\n",
    "import plotly.express as px"
   ]
  },
  {
   "cell_type": "code",
   "execution_count": 4,
   "id": "ready-ecology",
   "metadata": {},
   "outputs": [],
   "source": [
    "sys.path.insert(0,'../src_title/')\n",
    "import config, dataset, model, engine, utils, model_parameters"
   ]
  },
  {
   "cell_type": "code",
   "execution_count": 5,
   "id": "chinese-cooperative",
   "metadata": {},
   "outputs": [],
   "source": [
    "def set_seed(seed_value=42):\n",
    "    \"\"\"Set seed for reproducibility.\n",
    "    \"\"\"\n",
    "    random.seed(seed_value)\n",
    "    np.random.seed(seed_value)\n",
    "    torch.manual_seed(seed_value)\n",
    "    torch.cuda.manual_seed_all(seed_value)\n",
    "    \n",
    "set_seed(7) "
   ]
  },
  {
   "cell_type": "code",
   "execution_count": 6,
   "id": "native-vehicle",
   "metadata": {},
   "outputs": [],
   "source": [
    "df_train, df_test = utils.split_data() ## Read the data "
   ]
  },
  {
   "cell_type": "code",
   "execution_count": 7,
   "id": "entertaining-latter",
   "metadata": {},
   "outputs": [
    {
     "data": {
      "text/html": [
       "<div>\n",
       "<style scoped>\n",
       "    .dataframe tbody tr th:only-of-type {\n",
       "        vertical-align: middle;\n",
       "    }\n",
       "\n",
       "    .dataframe tbody tr th {\n",
       "        vertical-align: top;\n",
       "    }\n",
       "\n",
       "    .dataframe thead th {\n",
       "        text-align: right;\n",
       "    }\n",
       "</style>\n",
       "<table border=\"1\" class=\"dataframe\">\n",
       "  <thead>\n",
       "    <tr style=\"text-align: right;\">\n",
       "      <th></th>\n",
       "      <th>Unnamed: 0</th>\n",
       "      <th>Unnamed: 0.1</th>\n",
       "      <th>news_id</th>\n",
       "      <th>url</th>\n",
       "      <th>title</th>\n",
       "      <th>content</th>\n",
       "      <th>images</th>\n",
       "      <th>tweet_ids</th>\n",
       "      <th>image_list</th>\n",
       "      <th>label</th>\n",
       "      <th>clean_nb_imgs</th>\n",
       "    </tr>\n",
       "  </thead>\n",
       "  <tbody>\n",
       "    <tr>\n",
       "      <th>0</th>\n",
       "      <td>0</td>\n",
       "      <td>984</td>\n",
       "      <td>gossipcop-3507938806</td>\n",
       "      <td>www.foxnews.com/entertainment/2017/07/12/donal...</td>\n",
       "      <td>Donald Trump Jr. releases email exchange: Cele...</td>\n",
       "      <td>Donald Trump Jr. has been making headlines thi...</td>\n",
       "      <td>['fake_gossipcop-3507938806_headshot-48513.jpg...</td>\n",
       "      <td>885131701877428224\\t885131769896472577\\t885131...</td>\n",
       "      <td>['fake_gossipcop-3507938806_headshot-48513.jpg...</td>\n",
       "      <td>1</td>\n",
       "      <td>3</td>\n",
       "    </tr>\n",
       "    <tr>\n",
       "      <th>1</th>\n",
       "      <td>1</td>\n",
       "      <td>1579</td>\n",
       "      <td>gossipcop-8115207261</td>\n",
       "      <td>www.dailystar.co.uk/showbiz/678030/Lady-Gaga-p...</td>\n",
       "      <td>What has Lady Gaga done to her face? Plastic s...</td>\n",
       "      <td>The video will auto-play soon 8 Cancel\\n\\nSign...</td>\n",
       "      <td>['fake_gossipcop-8115207261_1219768.jpg']</td>\n",
       "      <td>958296018965225472\\t958331247956320256\\t958343...</td>\n",
       "      <td>['fake_gossipcop-8115207261_1219768.jpg']</td>\n",
       "      <td>1</td>\n",
       "      <td>1</td>\n",
       "    </tr>\n",
       "    <tr>\n",
       "      <th>2</th>\n",
       "      <td>2</td>\n",
       "      <td>657</td>\n",
       "      <td>gossipcop-7544598697</td>\n",
       "      <td>www.hollywoodreporter.com/news/oscars-2017-mem...</td>\n",
       "      <td>Oscars \"In Memoriam\": Garry Shandling, Robert ...</td>\n",
       "      <td>Oscars \"In Memoriam\": Garry Shandling, Robert ...</td>\n",
       "      <td>['fake_gossipcop-7544598697_split_vaughn_shand...</td>\n",
       "      <td>836090741512273921\\t836092215893995520\\t836098...</td>\n",
       "      <td>['fake_gossipcop-7544598697_split_vaughn_shand...</td>\n",
       "      <td>1</td>\n",
       "      <td>2</td>\n",
       "    </tr>\n",
       "    <tr>\n",
       "      <th>3</th>\n",
       "      <td>3</td>\n",
       "      <td>952</td>\n",
       "      <td>gossipcop-3645597267</td>\n",
       "      <td>www.girlfriend.com.au/kourtney-kardashian-blas...</td>\n",
       "      <td>Kourtney Kardashian blasts pregnant sister Khl...</td>\n",
       "      <td>Video from the upcoming season finale of Keepi...</td>\n",
       "      <td>['fake_gossipcop-3645597267_1000-khloe-kourtne...</td>\n",
       "      <td>970403514911358976\\t992690721353236482\\t102183...</td>\n",
       "      <td>['fake_gossipcop-3645597267_1000-khloe-kourtne...</td>\n",
       "      <td>1</td>\n",
       "      <td>1</td>\n",
       "    </tr>\n",
       "    <tr>\n",
       "      <th>4</th>\n",
       "      <td>5</td>\n",
       "      <td>1077</td>\n",
       "      <td>gossipcop-1363170506</td>\n",
       "      <td>pagesix.com/2017/10/31/the-text-that-changed-e...</td>\n",
       "      <td>The text that changed everything for J.Lo and ...</td>\n",
       "      <td>Click to email this to a friend (Opens in new ...</td>\n",
       "      <td>['fake_gossipcop-1363170506_alex-jennifer.jpg'...</td>\n",
       "      <td>966067473316491265\\t966071495192702976\\t966071...</td>\n",
       "      <td>['fake_gossipcop-1363170506_alex-jennifer.jpg'...</td>\n",
       "      <td>1</td>\n",
       "      <td>2</td>\n",
       "    </tr>\n",
       "  </tbody>\n",
       "</table>\n",
       "</div>"
      ],
      "text/plain": [
       "   Unnamed: 0  Unnamed: 0.1               news_id  \\\n",
       "0           0           984  gossipcop-3507938806   \n",
       "1           1          1579  gossipcop-8115207261   \n",
       "2           2           657  gossipcop-7544598697   \n",
       "3           3           952  gossipcop-3645597267   \n",
       "4           5          1077  gossipcop-1363170506   \n",
       "\n",
       "                                                 url  \\\n",
       "0  www.foxnews.com/entertainment/2017/07/12/donal...   \n",
       "1  www.dailystar.co.uk/showbiz/678030/Lady-Gaga-p...   \n",
       "2  www.hollywoodreporter.com/news/oscars-2017-mem...   \n",
       "3  www.girlfriend.com.au/kourtney-kardashian-blas...   \n",
       "4  pagesix.com/2017/10/31/the-text-that-changed-e...   \n",
       "\n",
       "                                               title  \\\n",
       "0  Donald Trump Jr. releases email exchange: Cele...   \n",
       "1  What has Lady Gaga done to her face? Plastic s...   \n",
       "2  Oscars \"In Memoriam\": Garry Shandling, Robert ...   \n",
       "3  Kourtney Kardashian blasts pregnant sister Khl...   \n",
       "4  The text that changed everything for J.Lo and ...   \n",
       "\n",
       "                                             content  \\\n",
       "0  Donald Trump Jr. has been making headlines thi...   \n",
       "1  The video will auto-play soon 8 Cancel\\n\\nSign...   \n",
       "2  Oscars \"In Memoriam\": Garry Shandling, Robert ...   \n",
       "3  Video from the upcoming season finale of Keepi...   \n",
       "4  Click to email this to a friend (Opens in new ...   \n",
       "\n",
       "                                              images  \\\n",
       "0  ['fake_gossipcop-3507938806_headshot-48513.jpg...   \n",
       "1          ['fake_gossipcop-8115207261_1219768.jpg']   \n",
       "2  ['fake_gossipcop-7544598697_split_vaughn_shand...   \n",
       "3  ['fake_gossipcop-3645597267_1000-khloe-kourtne...   \n",
       "4  ['fake_gossipcop-1363170506_alex-jennifer.jpg'...   \n",
       "\n",
       "                                           tweet_ids  \\\n",
       "0  885131701877428224\\t885131769896472577\\t885131...   \n",
       "1  958296018965225472\\t958331247956320256\\t958343...   \n",
       "2  836090741512273921\\t836092215893995520\\t836098...   \n",
       "3  970403514911358976\\t992690721353236482\\t102183...   \n",
       "4  966067473316491265\\t966071495192702976\\t966071...   \n",
       "\n",
       "                                          image_list  label  clean_nb_imgs  \n",
       "0  ['fake_gossipcop-3507938806_headshot-48513.jpg...      1              3  \n",
       "1          ['fake_gossipcop-8115207261_1219768.jpg']      1              1  \n",
       "2  ['fake_gossipcop-7544598697_split_vaughn_shand...      1              2  \n",
       "3  ['fake_gossipcop-3645597267_1000-khloe-kourtne...      1              1  \n",
       "4  ['fake_gossipcop-1363170506_alex-jennifer.jpg'...      1              2  "
      ]
     },
     "execution_count": 7,
     "metadata": {},
     "output_type": "execute_result"
    }
   ],
   "source": [
    "df_train.head()"
   ]
  },
  {
   "cell_type": "code",
   "execution_count": 8,
   "id": "raised-colon",
   "metadata": {},
   "outputs": [
    {
     "data": {
      "text/html": [
       "<div>\n",
       "<style scoped>\n",
       "    .dataframe tbody tr th:only-of-type {\n",
       "        vertical-align: middle;\n",
       "    }\n",
       "\n",
       "    .dataframe tbody tr th {\n",
       "        vertical-align: top;\n",
       "    }\n",
       "\n",
       "    .dataframe thead th {\n",
       "        text-align: right;\n",
       "    }\n",
       "</style>\n",
       "<table border=\"1\" class=\"dataframe\">\n",
       "  <thead>\n",
       "    <tr style=\"text-align: right;\">\n",
       "      <th></th>\n",
       "      <th>Unnamed: 0</th>\n",
       "      <th>Unnamed: 0.1</th>\n",
       "      <th>news_id</th>\n",
       "      <th>url</th>\n",
       "      <th>title</th>\n",
       "      <th>content</th>\n",
       "      <th>images</th>\n",
       "      <th>tweet_ids</th>\n",
       "      <th>image_list</th>\n",
       "      <th>clean_nb_imgs</th>\n",
       "    </tr>\n",
       "    <tr>\n",
       "      <th>label</th>\n",
       "      <th></th>\n",
       "      <th></th>\n",
       "      <th></th>\n",
       "      <th></th>\n",
       "      <th></th>\n",
       "      <th></th>\n",
       "      <th></th>\n",
       "      <th></th>\n",
       "      <th></th>\n",
       "      <th></th>\n",
       "    </tr>\n",
       "  </thead>\n",
       "  <tbody>\n",
       "    <tr>\n",
       "      <th>0</th>\n",
       "      <td>758</td>\n",
       "      <td>758</td>\n",
       "      <td>758</td>\n",
       "      <td>758</td>\n",
       "      <td>758</td>\n",
       "      <td>758</td>\n",
       "      <td>758</td>\n",
       "      <td>758</td>\n",
       "      <td>0</td>\n",
       "      <td>758</td>\n",
       "    </tr>\n",
       "    <tr>\n",
       "      <th>1</th>\n",
       "      <td>2040</td>\n",
       "      <td>2040</td>\n",
       "      <td>2040</td>\n",
       "      <td>2040</td>\n",
       "      <td>2040</td>\n",
       "      <td>2040</td>\n",
       "      <td>2040</td>\n",
       "      <td>2040</td>\n",
       "      <td>2040</td>\n",
       "      <td>2040</td>\n",
       "    </tr>\n",
       "  </tbody>\n",
       "</table>\n",
       "</div>"
      ],
      "text/plain": [
       "       Unnamed: 0  Unnamed: 0.1  news_id   url  title  content  images  \\\n",
       "label                                                                    \n",
       "0             758           758      758   758    758      758     758   \n",
       "1            2040          2040     2040  2040   2040     2040    2040   \n",
       "\n",
       "       tweet_ids  image_list  clean_nb_imgs  \n",
       "label                                        \n",
       "0            758           0            758  \n",
       "1           2040        2040           2040  "
      ]
     },
     "execution_count": 8,
     "metadata": {},
     "output_type": "execute_result"
    }
   ],
   "source": [
    "df_train.groupby(\"label\").count()"
   ]
  },
  {
   "cell_type": "code",
   "execution_count": 9,
   "id": "horizontal-moscow",
   "metadata": {},
   "outputs": [],
   "source": [
    "## Create the data Loaders\n",
    "\n",
    "train_dataset = dataset.FakeNewsDataset(df_train)\n",
    "\n",
    "## using padding\n",
    "train_data_loader = DataLoader(train_dataset, batch_size=1,\n",
    "                        shuffle=True, collate_fn=dataset.MyCollate())\n",
    "\n",
    "\n",
    "\n",
    "val_dataset = dataset.FakeNewsDataset(df_test)\n",
    "\n",
    "## using padding\n",
    "val_data_loader = DataLoader(val_dataset, batch_size=config.EVAL_BATCH_SIZE,\n",
    "                        shuffle=True, collate_fn=dataset.MyCollate())"
   ]
  },
  {
   "cell_type": "code",
   "execution_count": 10,
   "id": "western-tobago",
   "metadata": {},
   "outputs": [],
   "source": [
    "## to get component wise loss\n",
    "def sim_loss(x, y):\n",
    "    \n",
    "    ## Create centroid (mean along dim=1 as x=(batch, nb_components, mulimodal_space_dim))\n",
    "    centroid = torch.mean(x, dim=1, keepdim=True)\n",
    "\n",
    "    centroid = centroid.repeat(1, x.size(1), 1)\n",
    "\n",
    "    y = y.unsqueeze(1).repeat(1, x.size(1))\n",
    "\n",
    "    batch_size = x.shape[0]\n",
    "\n",
    "    # Squash samples and timesteps into a single axis\n",
    "    x_reshape = x.contiguous().view(-1, x.size(-1))  # (b_s * num_components, latent_dim)\n",
    "\n",
    "    centroid_reshape = centroid.contiguous().view(-1, centroid.size(-1))  # (b_s * num_components, latent_dim)\n",
    "    \n",
    "    ## Calculate distance of each component from the centroid\n",
    "    dist_mat = config.PDIST(x_reshape, centroid_reshape).view(batch_size, -1)\n",
    "\n",
    "    total_loss = torch.mean(dist_mat, dim=1)\n",
    "\n",
    "    return total_loss "
   ]
  },
  {
   "cell_type": "code",
   "execution_count": 18,
   "id": "vulnerable-gender",
   "metadata": {},
   "outputs": [],
   "source": [
    "EXP_NAME = \"raw_PF_padding_title_exp_new_1_save\" # clean_GC_padding_title_exp_new_1_save\n",
    "MODEL_PATH = f'/media/nas_mount/Shivangi/mudit/log/saved_model/{EXP_NAME}.pt'"
   ]
  },
  {
   "cell_type": "markdown",
   "id": "essential-apartment",
   "metadata": {},
   "source": [
    "## Either run the model again or read csv file "
   ]
  },
  {
   "cell_type": "code",
   "execution_count": 12,
   "id": "complicated-sarah",
   "metadata": {},
   "outputs": [
    {
     "name": "stdout",
     "output_type": "stream",
     "text": [
      "Using 3 GPUs\n"
     ]
    },
    {
     "name": "stderr",
     "output_type": "stream",
     "text": [
      "/home/shivangi/.conda/envs/fakenews/lib/python3.7/site-packages/torch/nn/parallel/data_parallel.py:30: UserWarning: \n",
      "    There is an imbalance between your GPUs. You may want to exclude GPU 0 which\n",
      "    has less than 75% of the memory or cores of GPU 2. You can do so by setting\n",
      "    the device_ids argument to DataParallel, or by setting the CUDA_VISIBLE_DEVICES\n",
      "    environment variable.\n",
      "  warnings.warn(imbalance_warn.format(device_ids[min_pos], device_ids[max_pos]))\n"
     ]
    }
   ],
   "source": [
    "## Set the device and initialize the model\n",
    "\n",
    "device = torch.device(\"cuda:0\" if torch.cuda.is_available() else \"cpu\")\n",
    "\n",
    "model = model.Multiple_Images_Model()\n",
    "\n",
    "if torch.cuda.device_count() > 1:\n",
    "    print(\"Using\", torch.cuda.device_count(), \"GPUs\")\n",
    "    model = nn.DataParallel(model)\n",
    "\n",
    "model = model.to(device)"
   ]
  },
  {
   "cell_type": "code",
   "execution_count": 13,
   "id": "varied-recall",
   "metadata": {},
   "outputs": [],
   "source": [
    "loaded_state_dict = torch.load(MODEL_PATH,  map_location=device)"
   ]
  },
  {
   "cell_type": "code",
   "execution_count": 14,
   "id": "registered-mailman",
   "metadata": {},
   "outputs": [
    {
     "data": {
      "text/plain": [
       "<All keys matched successfully>"
      ]
     },
     "execution_count": 14,
     "metadata": {},
     "output_type": "execute_result"
    }
   ],
   "source": [
    "model.load_state_dict(loaded_state_dict)"
   ]
  },
  {
   "cell_type": "code",
   "execution_count": 20,
   "id": "creative-audience",
   "metadata": {
    "scrolled": true
   },
   "outputs": [
    {
     "name": "stderr",
     "output_type": "stream",
     "text": [
      " 58%|█████▊    | 397/680 [01:32<01:40,  2.82it/s]/home/shivangi/.conda/envs/fakenews/lib/python3.7/site-packages/PIL/Image.py:963: UserWarning: Palette images with Transparency expressed in bytes should be converted to RGBA images\n",
      "  \"Palette images with Transparency expressed in bytes should be \"\n",
      "100%|██████████| 680/680 [02:38<00:00,  4.28it/s]\n"
     ]
    }
   ],
   "source": [
    "df_space, df_mean = misc_title.create_multimodal_space_df(model_parameters.MULTIMODAL_SPACE_DIM)\n",
    "df_space, df_mean = misc_title.create_space(df_space, df_mean, model, val_data_loader, sim_loss, device)"
   ]
  },
  {
   "cell_type": "markdown",
   "id": "dated-estimate",
   "metadata": {},
   "source": [
    "## Read the precomputed vectors "
   ]
  },
  {
   "cell_type": "markdown",
   "id": "fatal-quantity",
   "metadata": {},
   "source": [
    "Training Samples:"
   ]
  },
  {
   "cell_type": "code",
   "execution_count": 19,
   "id": "curious-conservative",
   "metadata": {},
   "outputs": [],
   "source": [
    "# df_mean.to_csv(f'./multimodal_space/{EXP_NAME}_df_mean_train.csv')\n",
    "# df_space.to_csv(f'./multimodal_space/{EXP_NAME}_df_space_train.csv')\n",
    "df_mean = pd.read_csv(f'./multimodal_space/{EXP_NAME}_df_mean_train.csv')\n",
    "df_space = pd.read_csv(f'./multimodal_space/{EXP_NAME}_df_space_train.csv')"
   ]
  },
  {
   "cell_type": "markdown",
   "id": "speaking-effort",
   "metadata": {},
   "source": [
    "Validation Samples:"
   ]
  },
  {
   "cell_type": "code",
   "execution_count": 21,
   "id": "reasonable-opening",
   "metadata": {},
   "outputs": [],
   "source": [
    "# df_mean.to_csv(f'./multimodal_space/{EXP_NAME}_df_mean_val.csv')\n",
    "# df_space.to_csv(f'./multimodal_space/{EXP_NAME}_df_space_val.csv')\n",
    "df_mean = pd.read_csv(f'./multimodal_space/{EXP_NAME}_df_mean_val.csv')\n",
    "df_space = pd.read_csv(f'./multimodal_space/{EXP_NAME}_df_space_val.csv')"
   ]
  },
  {
   "cell_type": "markdown",
   "id": "electoral-format",
   "metadata": {},
   "source": [
    "## RQ"
   ]
  },
  {
   "cell_type": "code",
   "execution_count": 13,
   "id": "smoking-butter",
   "metadata": {},
   "outputs": [
    {
     "data": {
      "text/html": [
       "<div>\n",
       "<style scoped>\n",
       "    .dataframe tbody tr th:only-of-type {\n",
       "        vertical-align: middle;\n",
       "    }\n",
       "\n",
       "    .dataframe tbody tr th {\n",
       "        vertical-align: top;\n",
       "    }\n",
       "\n",
       "    .dataframe thead th {\n",
       "        text-align: right;\n",
       "    }\n",
       "</style>\n",
       "<table border=\"1\" class=\"dataframe\">\n",
       "  <thead>\n",
       "    <tr style=\"text-align: right;\">\n",
       "      <th></th>\n",
       "      <th>Unnamed: 0</th>\n",
       "      <th>col_1</th>\n",
       "      <th>col_2</th>\n",
       "      <th>col_3</th>\n",
       "      <th>col_4</th>\n",
       "      <th>col_5</th>\n",
       "      <th>col_6</th>\n",
       "      <th>col_7</th>\n",
       "      <th>col_8</th>\n",
       "      <th>col_9</th>\n",
       "      <th>...</th>\n",
       "      <th>col_121</th>\n",
       "      <th>col_122</th>\n",
       "      <th>col_123</th>\n",
       "      <th>col_124</th>\n",
       "      <th>col_125</th>\n",
       "      <th>col_126</th>\n",
       "      <th>col_127</th>\n",
       "      <th>col_128</th>\n",
       "      <th>cluster_dist</th>\n",
       "      <th>label</th>\n",
       "    </tr>\n",
       "  </thead>\n",
       "  <tbody>\n",
       "    <tr>\n",
       "      <th>0</th>\n",
       "      <td>0</td>\n",
       "      <td>0.572308</td>\n",
       "      <td>-0.575535</td>\n",
       "      <td>-0.551263</td>\n",
       "      <td>-0.556636</td>\n",
       "      <td>-0.572301</td>\n",
       "      <td>0.532847</td>\n",
       "      <td>0.568110</td>\n",
       "      <td>0.511515</td>\n",
       "      <td>-0.576611</td>\n",
       "      <td>...</td>\n",
       "      <td>-0.560352</td>\n",
       "      <td>0.559980</td>\n",
       "      <td>0.561359</td>\n",
       "      <td>-0.574653</td>\n",
       "      <td>0.560286</td>\n",
       "      <td>0.482795</td>\n",
       "      <td>-0.516515</td>\n",
       "      <td>0.577177</td>\n",
       "      <td>1.524607</td>\n",
       "      <td>1.0</td>\n",
       "    </tr>\n",
       "    <tr>\n",
       "      <th>1</th>\n",
       "      <td>1</td>\n",
       "      <td>0.573774</td>\n",
       "      <td>-0.573662</td>\n",
       "      <td>-0.559687</td>\n",
       "      <td>-0.557988</td>\n",
       "      <td>-0.575645</td>\n",
       "      <td>0.539516</td>\n",
       "      <td>0.566392</td>\n",
       "      <td>0.527489</td>\n",
       "      <td>-0.576193</td>\n",
       "      <td>...</td>\n",
       "      <td>-0.563461</td>\n",
       "      <td>0.562857</td>\n",
       "      <td>0.565786</td>\n",
       "      <td>-0.571094</td>\n",
       "      <td>0.558420</td>\n",
       "      <td>0.490657</td>\n",
       "      <td>-0.529703</td>\n",
       "      <td>0.575360</td>\n",
       "      <td>1.469348</td>\n",
       "      <td>1.0</td>\n",
       "    </tr>\n",
       "    <tr>\n",
       "      <th>2</th>\n",
       "      <td>2</td>\n",
       "      <td>0.574965</td>\n",
       "      <td>-0.574288</td>\n",
       "      <td>-0.551177</td>\n",
       "      <td>-0.559189</td>\n",
       "      <td>-0.572712</td>\n",
       "      <td>0.528763</td>\n",
       "      <td>0.563269</td>\n",
       "      <td>0.499953</td>\n",
       "      <td>-0.576442</td>\n",
       "      <td>...</td>\n",
       "      <td>-0.556315</td>\n",
       "      <td>0.562257</td>\n",
       "      <td>0.557123</td>\n",
       "      <td>-0.572364</td>\n",
       "      <td>0.558158</td>\n",
       "      <td>0.478181</td>\n",
       "      <td>-0.513488</td>\n",
       "      <td>0.575655</td>\n",
       "      <td>1.595071</td>\n",
       "      <td>1.0</td>\n",
       "    </tr>\n",
       "    <tr>\n",
       "      <th>3</th>\n",
       "      <td>3</td>\n",
       "      <td>0.562739</td>\n",
       "      <td>-0.575341</td>\n",
       "      <td>-0.573014</td>\n",
       "      <td>-0.537960</td>\n",
       "      <td>-0.575168</td>\n",
       "      <td>0.571632</td>\n",
       "      <td>0.572739</td>\n",
       "      <td>0.558326</td>\n",
       "      <td>-0.574990</td>\n",
       "      <td>...</td>\n",
       "      <td>-0.574835</td>\n",
       "      <td>0.549177</td>\n",
       "      <td>0.575997</td>\n",
       "      <td>-0.575049</td>\n",
       "      <td>0.563235</td>\n",
       "      <td>0.547452</td>\n",
       "      <td>-0.568102</td>\n",
       "      <td>0.574587</td>\n",
       "      <td>1.199229</td>\n",
       "      <td>0.0</td>\n",
       "    </tr>\n",
       "    <tr>\n",
       "      <th>4</th>\n",
       "      <td>4</td>\n",
       "      <td>0.572265</td>\n",
       "      <td>-0.554596</td>\n",
       "      <td>-0.533889</td>\n",
       "      <td>-0.572544</td>\n",
       "      <td>-0.557914</td>\n",
       "      <td>0.495978</td>\n",
       "      <td>0.532163</td>\n",
       "      <td>0.458816</td>\n",
       "      <td>-0.559012</td>\n",
       "      <td>...</td>\n",
       "      <td>-0.525225</td>\n",
       "      <td>0.573561</td>\n",
       "      <td>0.520793</td>\n",
       "      <td>-0.545330</td>\n",
       "      <td>0.529305</td>\n",
       "      <td>0.461545</td>\n",
       "      <td>-0.486947</td>\n",
       "      <td>0.553841</td>\n",
       "      <td>2.264695</td>\n",
       "      <td>1.0</td>\n",
       "    </tr>\n",
       "  </tbody>\n",
       "</table>\n",
       "<p>5 rows × 131 columns</p>\n",
       "</div>"
      ],
      "text/plain": [
       "   Unnamed: 0     col_1     col_2     col_3     col_4     col_5     col_6  \\\n",
       "0           0  0.572308 -0.575535 -0.551263 -0.556636 -0.572301  0.532847   \n",
       "1           1  0.573774 -0.573662 -0.559687 -0.557988 -0.575645  0.539516   \n",
       "2           2  0.574965 -0.574288 -0.551177 -0.559189 -0.572712  0.528763   \n",
       "3           3  0.562739 -0.575341 -0.573014 -0.537960 -0.575168  0.571632   \n",
       "4           4  0.572265 -0.554596 -0.533889 -0.572544 -0.557914  0.495978   \n",
       "\n",
       "      col_7     col_8     col_9  ...   col_121   col_122   col_123   col_124  \\\n",
       "0  0.568110  0.511515 -0.576611  ... -0.560352  0.559980  0.561359 -0.574653   \n",
       "1  0.566392  0.527489 -0.576193  ... -0.563461  0.562857  0.565786 -0.571094   \n",
       "2  0.563269  0.499953 -0.576442  ... -0.556315  0.562257  0.557123 -0.572364   \n",
       "3  0.572739  0.558326 -0.574990  ... -0.574835  0.549177  0.575997 -0.575049   \n",
       "4  0.532163  0.458816 -0.559012  ... -0.525225  0.573561  0.520793 -0.545330   \n",
       "\n",
       "    col_125   col_126   col_127   col_128  cluster_dist  label  \n",
       "0  0.560286  0.482795 -0.516515  0.577177      1.524607    1.0  \n",
       "1  0.558420  0.490657 -0.529703  0.575360      1.469348    1.0  \n",
       "2  0.558158  0.478181 -0.513488  0.575655      1.595071    1.0  \n",
       "3  0.563235  0.547452 -0.568102  0.574587      1.199229    0.0  \n",
       "4  0.529305  0.461545 -0.486947  0.553841      2.264695    1.0  \n",
       "\n",
       "[5 rows x 131 columns]"
      ]
     },
     "execution_count": 13,
     "metadata": {},
     "output_type": "execute_result"
    }
   ],
   "source": [
    "df_mean.head()"
   ]
  },
  {
   "cell_type": "code",
   "execution_count": 22,
   "id": "buried-motel",
   "metadata": {},
   "outputs": [
    {
     "data": {
      "text/plain": [
       "<Figure size 216x216 with 0 Axes>"
      ]
     },
     "metadata": {},
     "output_type": "display_data"
    },
    {
     "data": {
      "image/png": "[encoded data removed]",
      "text/plain": [
       "<Figure size 411.875x360 with 1 Axes>"
      ]
     },
     "metadata": {
      "needs_background": "light"
     },
     "output_type": "display_data"
    }
   ],
   "source": [
    "plt.figure(figsize=(3, 3))\n",
    "sns.displot(data=df_mean, x=\"cluster_dist\", hue=\"label\",kind=\"kde\")\n",
    "plt.legend(['Fake', \"Real\"])\n",
    "plt.xlabel('Modality Discordance Score', fontsize=12)\n",
    "plt.ylabel('Density', fontsize=12)\n",
    "# plt.savefig(\"Gossipcop_validation_kde.pdf\", bbox_inches=\"tight\")\n",
    "plt.show()"
   ]
  },
  {
   "cell_type": "markdown",
   "id": "positive-interpretation",
   "metadata": {},
   "source": [
    "## RQ"
   ]
  },
  {
   "cell_type": "code",
   "execution_count": 25,
   "id": "weekly-powder",
   "metadata": {},
   "outputs": [],
   "source": [
    "## Prepare input as the multimodal vectors for t-SNE plots and further analysis\n",
    "X = df_mean[['col_'+str(i) for i in range(1,model_parameters.MULTIMODAL_SPACE_DIM+1)]].to_numpy()\n",
    "Y_hue = df_mean['label'].to_numpy()\n",
    "clust_size = df_mean['cluster_dist'].to_numpy()\n",
    "nb_components = 2"
   ]
  },
  {
   "cell_type": "code",
   "execution_count": 26,
   "id": "hybrid-conservative",
   "metadata": {},
   "outputs": [],
   "source": [
    "# X_2d = misc_title.plot_bubbles(X, clust_size, Y_hue, nb_components)"
   ]
  },
  {
   "cell_type": "markdown",
   "id": "stupid-grant",
   "metadata": {},
   "source": [
    "## RQ "
   ]
  },
  {
   "cell_type": "code",
   "execution_count": 27,
   "id": "voluntary-assessment",
   "metadata": {},
   "outputs": [
    {
     "name": "stderr",
     "output_type": "stream",
     "text": [
      "100%|██████████| 680/680 [00:00<00:00, 27062.85it/s]\n"
     ]
    }
   ],
   "source": [
    "df_dist = misc_title.create_dist_df(df_space, df_mean, model_parameters.MULTIMODAL_SPACE_DIM)"
   ]
  },
  {
   "cell_type": "code",
   "execution_count": 28,
   "id": "interim-compromise",
   "metadata": {},
   "outputs": [
    {
     "data": {
      "text/html": [
       "<div>\n",
       "<style scoped>\n",
       "    .dataframe tbody tr th:only-of-type {\n",
       "        vertical-align: middle;\n",
       "    }\n",
       "\n",
       "    .dataframe tbody tr th {\n",
       "        vertical-align: top;\n",
       "    }\n",
       "\n",
       "    .dataframe thead th {\n",
       "        text-align: right;\n",
       "    }\n",
       "</style>\n",
       "<table border=\"1\" class=\"dataframe\">\n",
       "  <thead>\n",
       "    <tr style=\"text-align: right;\">\n",
       "      <th></th>\n",
       "      <th>title_text</th>\n",
       "      <th>text_img1</th>\n",
       "      <th>text_img2</th>\n",
       "      <th>text_img3</th>\n",
       "      <th>title_img1</th>\n",
       "      <th>title_img2</th>\n",
       "      <th>title_img3</th>\n",
       "      <th>img1_img2</th>\n",
       "      <th>img1_img3</th>\n",
       "      <th>img2_img3, nb_imgs</th>\n",
       "      <th>img2_img3</th>\n",
       "      <th>nb_imgs</th>\n",
       "      <th>label</th>\n",
       "    </tr>\n",
       "  </thead>\n",
       "  <tbody>\n",
       "    <tr>\n",
       "      <th>2</th>\n",
       "      <td>0.636746</td>\n",
       "      <td>3.878267</td>\n",
       "      <td>NaN</td>\n",
       "      <td>NaN</td>\n",
       "      <td>3.920002</td>\n",
       "      <td>NaN</td>\n",
       "      <td>NaN</td>\n",
       "      <td>NaN</td>\n",
       "      <td>NaN</td>\n",
       "      <td>NaN</td>\n",
       "      <td>NaN</td>\n",
       "      <td>2</td>\n",
       "      <td>1.0</td>\n",
       "    </tr>\n",
       "    <tr>\n",
       "      <th>4</th>\n",
       "      <td>1.377144</td>\n",
       "      <td>3.440352</td>\n",
       "      <td>3.440352</td>\n",
       "      <td>1.534566</td>\n",
       "      <td>2.913980</td>\n",
       "      <td>2.913980</td>\n",
       "      <td>0.459574</td>\n",
       "      <td>0.000000</td>\n",
       "      <td>3.085718</td>\n",
       "      <td>NaN</td>\n",
       "      <td>3.085718</td>\n",
       "      <td>4</td>\n",
       "      <td>1.0</td>\n",
       "    </tr>\n",
       "    <tr>\n",
       "      <th>6</th>\n",
       "      <td>0.488200</td>\n",
       "      <td>2.771492</td>\n",
       "      <td>2.771492</td>\n",
       "      <td>NaN</td>\n",
       "      <td>2.645906</td>\n",
       "      <td>2.645906</td>\n",
       "      <td>NaN</td>\n",
       "      <td>0.000000</td>\n",
       "      <td>NaN</td>\n",
       "      <td>NaN</td>\n",
       "      <td>NaN</td>\n",
       "      <td>3</td>\n",
       "      <td>1.0</td>\n",
       "    </tr>\n",
       "    <tr>\n",
       "      <th>7</th>\n",
       "      <td>2.872352</td>\n",
       "      <td>0.602963</td>\n",
       "      <td>NaN</td>\n",
       "      <td>NaN</td>\n",
       "      <td>2.742515</td>\n",
       "      <td>NaN</td>\n",
       "      <td>NaN</td>\n",
       "      <td>NaN</td>\n",
       "      <td>NaN</td>\n",
       "      <td>NaN</td>\n",
       "      <td>NaN</td>\n",
       "      <td>2</td>\n",
       "      <td>1.0</td>\n",
       "    </tr>\n",
       "    <tr>\n",
       "      <th>8</th>\n",
       "      <td>0.659083</td>\n",
       "      <td>2.219151</td>\n",
       "      <td>1.553188</td>\n",
       "      <td>NaN</td>\n",
       "      <td>1.772770</td>\n",
       "      <td>1.096978</td>\n",
       "      <td>NaN</td>\n",
       "      <td>0.721672</td>\n",
       "      <td>NaN</td>\n",
       "      <td>NaN</td>\n",
       "      <td>NaN</td>\n",
       "      <td>3</td>\n",
       "      <td>1.0</td>\n",
       "    </tr>\n",
       "    <tr>\n",
       "      <th>...</th>\n",
       "      <td>...</td>\n",
       "      <td>...</td>\n",
       "      <td>...</td>\n",
       "      <td>...</td>\n",
       "      <td>...</td>\n",
       "      <td>...</td>\n",
       "      <td>...</td>\n",
       "      <td>...</td>\n",
       "      <td>...</td>\n",
       "      <td>...</td>\n",
       "      <td>...</td>\n",
       "      <td>...</td>\n",
       "      <td>...</td>\n",
       "    </tr>\n",
       "    <tr>\n",
       "      <th>671</th>\n",
       "      <td>0.427514</td>\n",
       "      <td>3.162124</td>\n",
       "      <td>3.162124</td>\n",
       "      <td>NaN</td>\n",
       "      <td>3.297860</td>\n",
       "      <td>3.297860</td>\n",
       "      <td>NaN</td>\n",
       "      <td>0.000000</td>\n",
       "      <td>NaN</td>\n",
       "      <td>NaN</td>\n",
       "      <td>NaN</td>\n",
       "      <td>3</td>\n",
       "      <td>1.0</td>\n",
       "    </tr>\n",
       "    <tr>\n",
       "      <th>672</th>\n",
       "      <td>0.728555</td>\n",
       "      <td>1.672021</td>\n",
       "      <td>NaN</td>\n",
       "      <td>NaN</td>\n",
       "      <td>1.855270</td>\n",
       "      <td>NaN</td>\n",
       "      <td>NaN</td>\n",
       "      <td>NaN</td>\n",
       "      <td>NaN</td>\n",
       "      <td>NaN</td>\n",
       "      <td>NaN</td>\n",
       "      <td>2</td>\n",
       "      <td>1.0</td>\n",
       "    </tr>\n",
       "    <tr>\n",
       "      <th>673</th>\n",
       "      <td>0.776976</td>\n",
       "      <td>2.486563</td>\n",
       "      <td>2.486563</td>\n",
       "      <td>NaN</td>\n",
       "      <td>2.331251</td>\n",
       "      <td>2.331251</td>\n",
       "      <td>NaN</td>\n",
       "      <td>0.000000</td>\n",
       "      <td>NaN</td>\n",
       "      <td>NaN</td>\n",
       "      <td>NaN</td>\n",
       "      <td>3</td>\n",
       "      <td>1.0</td>\n",
       "    </tr>\n",
       "    <tr>\n",
       "      <th>675</th>\n",
       "      <td>0.577799</td>\n",
       "      <td>2.741995</td>\n",
       "      <td>2.741995</td>\n",
       "      <td>NaN</td>\n",
       "      <td>2.699922</td>\n",
       "      <td>2.699922</td>\n",
       "      <td>NaN</td>\n",
       "      <td>0.000000</td>\n",
       "      <td>NaN</td>\n",
       "      <td>NaN</td>\n",
       "      <td>NaN</td>\n",
       "      <td>3</td>\n",
       "      <td>1.0</td>\n",
       "    </tr>\n",
       "    <tr>\n",
       "      <th>677</th>\n",
       "      <td>1.959324</td>\n",
       "      <td>2.045995</td>\n",
       "      <td>NaN</td>\n",
       "      <td>NaN</td>\n",
       "      <td>1.700893</td>\n",
       "      <td>NaN</td>\n",
       "      <td>NaN</td>\n",
       "      <td>NaN</td>\n",
       "      <td>NaN</td>\n",
       "      <td>NaN</td>\n",
       "      <td>NaN</td>\n",
       "      <td>2</td>\n",
       "      <td>1.0</td>\n",
       "    </tr>\n",
       "  </tbody>\n",
       "</table>\n",
       "<p>486 rows × 13 columns</p>\n",
       "</div>"
      ],
      "text/plain": [
       "     title_text  text_img1  text_img2  text_img3  title_img1  title_img2  \\\n",
       "2      0.636746   3.878267        NaN        NaN    3.920002         NaN   \n",
       "4      1.377144   3.440352   3.440352   1.534566    2.913980    2.913980   \n",
       "6      0.488200   2.771492   2.771492        NaN    2.645906    2.645906   \n",
       "7      2.872352   0.602963        NaN        NaN    2.742515         NaN   \n",
       "8      0.659083   2.219151   1.553188        NaN    1.772770    1.096978   \n",
       "..          ...        ...        ...        ...         ...         ...   \n",
       "671    0.427514   3.162124   3.162124        NaN    3.297860    3.297860   \n",
       "672    0.728555   1.672021        NaN        NaN    1.855270         NaN   \n",
       "673    0.776976   2.486563   2.486563        NaN    2.331251    2.331251   \n",
       "675    0.577799   2.741995   2.741995        NaN    2.699922    2.699922   \n",
       "677    1.959324   2.045995        NaN        NaN    1.700893         NaN   \n",
       "\n",
       "     title_img3  img1_img2  img1_img3 img2_img3, nb_imgs  img2_img3  nb_imgs  \\\n",
       "2           NaN        NaN        NaN                NaN        NaN        2   \n",
       "4      0.459574   0.000000   3.085718                NaN   3.085718        4   \n",
       "6           NaN   0.000000        NaN                NaN        NaN        3   \n",
       "7           NaN        NaN        NaN                NaN        NaN        2   \n",
       "8           NaN   0.721672        NaN                NaN        NaN        3   \n",
       "..          ...        ...        ...                ...        ...      ...   \n",
       "671         NaN   0.000000        NaN                NaN        NaN        3   \n",
       "672         NaN        NaN        NaN                NaN        NaN        2   \n",
       "673         NaN   0.000000        NaN                NaN        NaN        3   \n",
       "675         NaN   0.000000        NaN                NaN        NaN        3   \n",
       "677         NaN        NaN        NaN                NaN        NaN        2   \n",
       "\n",
       "     label  \n",
       "2      1.0  \n",
       "4      1.0  \n",
       "6      1.0  \n",
       "7      1.0  \n",
       "8      1.0  \n",
       "..     ...  \n",
       "671    1.0  \n",
       "672    1.0  \n",
       "673    1.0  \n",
       "675    1.0  \n",
       "677    1.0  \n",
       "\n",
       "[486 rows x 13 columns]"
      ]
     },
     "execution_count": 28,
     "metadata": {},
     "output_type": "execute_result"
    }
   ],
   "source": [
    "df_dist[df_dist['label']==1]"
   ]
  },
  {
   "cell_type": "markdown",
   "id": "tender-palestine",
   "metadata": {},
   "source": [
    "## Store distance between each component separately for Real and Fake samples "
   ]
  },
  {
   "cell_type": "markdown",
   "id": "lesbian-bermuda",
   "metadata": {},
   "source": [
    "a_b_<t/f> : distance between a and b for t:Real or f: Fake samples\n",
    "\n",
    "im1 - Image 1 / Top image\n",
    "\n",
    "ims - other images (non-first)\n",
    "\n",
    "text - content body\n",
    "\n",
    "title - title of sample"
   ]
  },
  {
   "cell_type": "code",
   "execution_count": 29,
   "id": "crude-hormone",
   "metadata": {},
   "outputs": [],
   "source": [
    "text_im1_t = df_dist[df_dist['label']==0]['text_img1'].to_numpy()\n",
    "text_im1_f = df_dist[df_dist['label']==1]['text_img1'].to_numpy()"
   ]
  },
  {
   "cell_type": "code",
   "execution_count": 30,
   "id": "express-queens",
   "metadata": {},
   "outputs": [],
   "source": [
    "title_im1_t = df_dist[df_dist['label']==0]['title_img1'].to_numpy()\n",
    "title_im1_f = df_dist[df_dist['label']==1]['title_img1'].to_numpy()"
   ]
  },
  {
   "cell_type": "code",
   "execution_count": 31,
   "id": "minor-bearing",
   "metadata": {},
   "outputs": [],
   "source": [
    "text_ims_t = np.concatenate((df_dist[df_dist['label']==0]['text_img2'].dropna().to_numpy(), df_dist[df_dist['label']==0]['text_img3'].dropna().to_numpy()))\n",
    "text_ims_f = np.concatenate((df_dist[df_dist['label']==1]['text_img2'].dropna().to_numpy(), df_dist[df_dist['label']==1]['text_img3'].dropna().to_numpy()))"
   ]
  },
  {
   "cell_type": "code",
   "execution_count": 32,
   "id": "blessed-thumb",
   "metadata": {},
   "outputs": [],
   "source": [
    "title_ims_t = np.concatenate((df_dist[df_dist['label']==0]['title_img2'].dropna().to_numpy(), df_dist[df_dist['label']==0]['title_img3'].dropna().to_numpy()))\n",
    "title_ims_f = np.concatenate((df_dist[df_dist['label']==1]['title_img2'].dropna().to_numpy(), df_dist[df_dist['label']==1]['title_img3'].dropna().to_numpy()))"
   ]
  },
  {
   "cell_type": "code",
   "execution_count": 33,
   "id": "frank-parcel",
   "metadata": {},
   "outputs": [],
   "source": [
    "title_text_t = df_dist[df_dist['label']==0]['title_text']\n",
    "title_text_f = df_dist[df_dist['label']==1]['title_text']"
   ]
  },
  {
   "cell_type": "code",
   "execution_count": 34,
   "id": "final-bahamas",
   "metadata": {},
   "outputs": [],
   "source": [
    "im1_ims_t = np.concatenate((df_dist[df_dist['label']==0]['img1_img2'].dropna().to_numpy(), df_dist[df_dist['label']==0]['img1_img3'].dropna().to_numpy()))\n",
    "im1_ims_f = np.concatenate((df_dist[df_dist['label']==1]['img1_img2'].dropna().to_numpy(), df_dist[df_dist['label']==1]['img1_img3'].dropna().to_numpy()))"
   ]
  },
  {
   "cell_type": "code",
   "execution_count": 35,
   "id": "precise-charger",
   "metadata": {},
   "outputs": [],
   "source": [
    "## For statistical tests\n",
    "from scipy.stats import mannwhitneyu, f_oneway, kruskal"
   ]
  },
  {
   "cell_type": "markdown",
   "id": "indian-measure",
   "metadata": {},
   "source": [
    "## Title is closer to 1st image when article is real than fake"
   ]
  },
  {
   "cell_type": "code",
   "execution_count": 36,
   "id": "legal-likelihood",
   "metadata": {},
   "outputs": [
    {
     "data": {
      "image/png": "[encoded data removed]",
      "text/plain": [
       "<Figure size 432x288 with 1 Axes>"
      ]
     },
     "metadata": {
      "needs_background": "light"
     },
     "output_type": "display_data"
    }
   ],
   "source": [
    "sns.kdeplot(title_im1_t, label=\"Title+1stImage+Real\")\n",
    "sns.kdeplot(title_im1_f, label=\"Title+1stImage+Fake\")\n",
    "plt.legend()\n",
    "plt.show()"
   ]
  },
  {
   "cell_type": "markdown",
   "id": "cultural-experiment",
   "metadata": {},
   "source": [
    "## Title is far away from from first image when article is real than the other images peresnt (ie, to get the attention) "
   ]
  },
  {
   "cell_type": "code",
   "execution_count": 37,
   "id": "unlike-disease",
   "metadata": {},
   "outputs": [
    {
     "data": {
      "image/png": "[encoded data removed]",
      "text/plain": [
       "<Figure size 432x288 with 1 Axes>"
      ]
     },
     "metadata": {
      "needs_background": "light"
     },
     "output_type": "display_data"
    }
   ],
   "source": [
    "sns.kdeplot(title_im1_f, label=\"Title+1stImage+Fake\")\n",
    "sns.kdeplot(title_ims_f, label=\"Title+OtherImages+Fake\")\n",
    "plt.legend()\n",
    "plt.show()"
   ]
  },
  {
   "cell_type": "code",
   "execution_count": 38,
   "id": "blond-liabilities",
   "metadata": {},
   "outputs": [
    {
     "name": "stdout",
     "output_type": "stream",
     "text": [
      "Statistics=25.633, p=0.000\n",
      "Different distributions (reject H0)\n"
     ]
    }
   ],
   "source": [
    "# compare samples\n",
    "stat, p = f_oneway(title_im1_f, title_ims_f)\n",
    "print('Statistics=%.3f, p=%.3f' % (stat, p))\n",
    "# interpret\n",
    "alpha = 0.05\n",
    "if p > alpha:\n",
    "\tprint('Same distributions (fail to reject H0)')\n",
    "else:\n",
    "\tprint('Different distributions (reject H0)')"
   ]
  },
  {
   "cell_type": "code",
   "execution_count": 39,
   "id": "outdoor-daily",
   "metadata": {},
   "outputs": [
    {
     "name": "stdout",
     "output_type": "stream",
     "text": [
      "Statistics=65374.000, p=0.000\n",
      "Different distribution (reject H0)\n"
     ]
    }
   ],
   "source": [
    "# compare samples\n",
    "stat, p = mannwhitneyu(title_im1_f, title_ims_f)\n",
    "\n",
    "print('Statistics=%.3f, p=%.3f' % (stat, p))\n",
    "# interpret\n",
    "alpha = 0.05\n",
    "if p > alpha:\n",
    "\tprint('Same distribution (fail to reject H0)')\n",
    "else:\n",
    "\tprint('Different distribution (reject H0)')"
   ]
  },
  {
   "cell_type": "code",
   "execution_count": 40,
   "id": "corrected-mobility",
   "metadata": {},
   "outputs": [
    {
     "name": "stdout",
     "output_type": "stream",
     "text": [
      "Statistics=31.959, p=0.000\n",
      "Different distributions (reject H0)\n"
     ]
    }
   ],
   "source": [
    "# compare samples\n",
    "stat, p = kruskal(title_im1_f, title_ims_f)\n",
    "print('Statistics=%.3f, p=%.3f' % (stat, p))\n",
    "# interpret\n",
    "alpha = 0.05\n",
    "if p > alpha:\n",
    "\tprint('Same distributions (fail to reject H0)')\n",
    "else:\n",
    "\tprint('Different distributions (reject H0)')"
   ]
  },
  {
   "cell_type": "markdown",
   "id": "explicit-contract",
   "metadata": {},
   "source": [
    "## Distance between Image1 and other images is less when sample is real"
   ]
  },
  {
   "cell_type": "code",
   "execution_count": 41,
   "id": "abandoned-basketball",
   "metadata": {},
   "outputs": [
    {
     "data": {
      "image/png": "[encoded data removed]",
      "text/plain": [
       "<Figure size 432x288 with 1 Axes>"
      ]
     },
     "metadata": {
      "needs_background": "light"
     },
     "output_type": "display_data"
    }
   ],
   "source": [
    "sns.kdeplot(im1_ims_t, label=\"1stImage+OtherImages+Real\")\n",
    "sns.kdeplot(im1_ims_f, label=\"1stImage+OtherImages+Fake\")\n",
    "plt.legend()\n",
    "plt.show()"
   ]
  },
  {
   "cell_type": "code",
   "execution_count": 42,
   "id": "binding-chance",
   "metadata": {},
   "outputs": [
    {
     "name": "stdout",
     "output_type": "stream",
     "text": [
      "Statistics=0.062, p=0.803\n",
      "Same distributions (fail to reject H0)\n"
     ]
    }
   ],
   "source": [
    "# compare samples\n",
    "stat, p = f_oneway(im1_ims_t, im1_ims_f)\n",
    "print('Statistics=%.3f, p=%.3f' % (stat, p))\n",
    "# interpret\n",
    "alpha = 0.05\n",
    "if p > alpha:\n",
    "\tprint('Same distributions (fail to reject H0)')\n",
    "else:\n",
    "\tprint('Different distributions (reject H0)')"
   ]
  },
  {
   "cell_type": "code",
   "execution_count": 43,
   "id": "nominated-allergy",
   "metadata": {},
   "outputs": [
    {
     "name": "stdout",
     "output_type": "stream",
     "text": [
      "Statistics=20148.000, p=0.008\n",
      "Different distribution (reject H0)\n"
     ]
    }
   ],
   "source": [
    "# compare samples\n",
    "stat, p = mannwhitneyu(im1_ims_t, im1_ims_f)\n",
    "\n",
    "print('Statistics=%.3f, p=%.3f' % (stat, p))\n",
    "# interpret\n",
    "alpha = 0.05\n",
    "if p > alpha:\n",
    "\tprint('Same distribution (fail to reject H0)')\n",
    "else:\n",
    "\tprint('Different distribution (reject H0)')"
   ]
  },
  {
   "cell_type": "code",
   "execution_count": 44,
   "id": "exclusive-closer",
   "metadata": {},
   "outputs": [
    {
     "name": "stdout",
     "output_type": "stream",
     "text": [
      "Statistics=5.849, p=0.016\n",
      "Different distributions (reject H0)\n"
     ]
    }
   ],
   "source": [
    "# compare samples\n",
    "stat, p = kruskal(im1_ims_t, im1_ims_f)\n",
    "print('Statistics=%.3f, p=%.3f' % (stat, p))\n",
    "# interpret\n",
    "alpha = 0.05\n",
    "if p > alpha:\n",
    "\tprint('Same distributions (fail to reject H0)')\n",
    "else:\n",
    "\tprint('Different distributions (reject H0)')"
   ]
  },
  {
   "cell_type": "code",
   "execution_count": 45,
   "id": "cooperative-millennium",
   "metadata": {},
   "outputs": [
    {
     "name": "stdout",
     "output_type": "stream",
     "text": [
      "Statistics=29.905, p=0.000\n",
      "Different distributions (reject H0)\n"
     ]
    }
   ],
   "source": [
    "# compare samples\n",
    "stat, p = f_oneway(text_im1_f, text_ims_f)\n",
    "print('Statistics=%.3f, p=%.3f' % (stat, p))\n",
    "# interpret\n",
    "alpha = 0.05\n",
    "if p > alpha:\n",
    "\tprint('Same distributions (fail to reject H0)')\n",
    "else:\n",
    "\tprint('Different distributions (reject H0)')"
   ]
  },
  {
   "cell_type": "code",
   "execution_count": null,
   "id": "sustained-absorption",
   "metadata": {},
   "outputs": [],
   "source": []
  },
  {
   "cell_type": "code",
   "execution_count": null,
   "id": "marked-nigeria",
   "metadata": {},
   "outputs": [],
   "source": []
  }
 ],
 "metadata": {
  "kernelspec": {
   "display_name": "python-fakenews",
   "language": "python",
   "name": "fakenews"
  },
  "language_info": {
   "codemirror_mode": {
    "name": "ipython",
    "version": 3
   },
   "file_extension": ".py",
   "mimetype": "text/x-python",
   "name": "python",
   "nbconvert_exporter": "python",
   "pygments_lexer": "ipython3",
   "version": "3.7.9"
  }
 },
 "nbformat": 4,
 "nbformat_minor": 5
}
