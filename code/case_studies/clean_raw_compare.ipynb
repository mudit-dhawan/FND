{
 "cells": [
  {
   "cell_type": "code",
   "execution_count": 1,
   "id": "distinct-racing",
   "metadata": {},
   "outputs": [],
   "source": [
    "import os \n",
    "import pandas as pd\n",
    "from tqdm.notebook import tqdm\n",
    "import numpy as np\n",
    "from pathlib import Path\n",
    "from PIL import Image\n",
    "import time\n",
    "tqdm.pandas()"
   ]
  },
  {
   "cell_type": "code",
   "execution_count": 2,
   "id": "intelligent-sheet",
   "metadata": {},
   "outputs": [],
   "source": [
    "DATA_PATH_CLEAN = \"/media/data_dump/Shivangi/Mudit/dataset/gossipcop/our_gossip_combined.csv\"\n",
    "DATA_PATH_RAW = \"/media/data_dump/Shivangi/Mudit/dataset/raw_gossipcop/raw_gossipcop_data_final.csv\""
   ]
  },
  {
   "cell_type": "code",
   "execution_count": 3,
   "id": "innocent-discussion",
   "metadata": {},
   "outputs": [],
   "source": [
    "IMAGE_ROOT_DIR_CLEAN = \"/media/data_dump/Shivangi/Mudit/dataset/gossipcop/gossipcop_images/\"\n",
    "IMAGE_ROOT_DIR_RAW = \"/media/data_dump/Shivangi/Mudit/dataset/raw_gossipcop/\""
   ]
  },
  {
   "cell_type": "code",
   "execution_count": 4,
   "id": "photographic-imperial",
   "metadata": {},
   "outputs": [],
   "source": [
    "df_clean = pd.read_csv(DATA_PATH_CLEAN, sep=\"\\t\")\n",
    "df_raw = pd.read_csv(DATA_PATH_RAW)"
   ]
  },
  {
   "cell_type": "code",
   "execution_count": 5,
   "id": "official-ratio",
   "metadata": {},
   "outputs": [
    {
     "data": {
      "text/html": [
       "<div>\n",
       "<style scoped>\n",
       "    .dataframe tbody tr th:only-of-type {\n",
       "        vertical-align: middle;\n",
       "    }\n",
       "\n",
       "    .dataframe tbody tr th {\n",
       "        vertical-align: top;\n",
       "    }\n",
       "\n",
       "    .dataframe thead th {\n",
       "        text-align: right;\n",
       "    }\n",
       "</style>\n",
       "<table border=\"1\" class=\"dataframe\">\n",
       "  <thead>\n",
       "    <tr style=\"text-align: right;\">\n",
       "      <th></th>\n",
       "      <th>Unnamed: 0</th>\n",
       "      <th>Unnamed: 0.1</th>\n",
       "      <th>news_id</th>\n",
       "      <th>url</th>\n",
       "      <th>title</th>\n",
       "      <th>content</th>\n",
       "      <th>images</th>\n",
       "      <th>tweet_ids</th>\n",
       "      <th>image_list</th>\n",
       "      <th>label</th>\n",
       "      <th>clean_nb_imgs</th>\n",
       "    </tr>\n",
       "  </thead>\n",
       "  <tbody>\n",
       "    <tr>\n",
       "      <th>0</th>\n",
       "      <td>0</td>\n",
       "      <td>984</td>\n",
       "      <td>gossipcop-3507938806</td>\n",
       "      <td>www.foxnews.com/entertainment/2017/07/12/donal...</td>\n",
       "      <td>Donald Trump Jr. releases email exchange: Cele...</td>\n",
       "      <td>Donald Trump Jr. has been making headlines thi...</td>\n",
       "      <td>['fake_gossipcop-3507938806_headshot-48513.jpg...</td>\n",
       "      <td>885131701877428224\\t885131769896472577\\t885131...</td>\n",
       "      <td>['fake_gossipcop-3507938806_headshot-48513.jpg...</td>\n",
       "      <td>1</td>\n",
       "      <td>3</td>\n",
       "    </tr>\n",
       "    <tr>\n",
       "      <th>1</th>\n",
       "      <td>1</td>\n",
       "      <td>1579</td>\n",
       "      <td>gossipcop-8115207261</td>\n",
       "      <td>www.dailystar.co.uk/showbiz/678030/Lady-Gaga-p...</td>\n",
       "      <td>What has Lady Gaga done to her face? Plastic s...</td>\n",
       "      <td>The video will auto-play soon 8 Cancel\\n\\nSign...</td>\n",
       "      <td>['fake_gossipcop-8115207261_1219768.jpg']</td>\n",
       "      <td>958296018965225472\\t958331247956320256\\t958343...</td>\n",
       "      <td>['fake_gossipcop-8115207261_1219768.jpg']</td>\n",
       "      <td>1</td>\n",
       "      <td>1</td>\n",
       "    </tr>\n",
       "    <tr>\n",
       "      <th>2</th>\n",
       "      <td>2</td>\n",
       "      <td>657</td>\n",
       "      <td>gossipcop-7544598697</td>\n",
       "      <td>www.hollywoodreporter.com/news/oscars-2017-mem...</td>\n",
       "      <td>Oscars \"In Memoriam\": Garry Shandling, Robert ...</td>\n",
       "      <td>Oscars \"In Memoriam\": Garry Shandling, Robert ...</td>\n",
       "      <td>['fake_gossipcop-7544598697_split_vaughn_shand...</td>\n",
       "      <td>836090741512273921\\t836092215893995520\\t836098...</td>\n",
       "      <td>['fake_gossipcop-7544598697_split_vaughn_shand...</td>\n",
       "      <td>1</td>\n",
       "      <td>2</td>\n",
       "    </tr>\n",
       "    <tr>\n",
       "      <th>3</th>\n",
       "      <td>3</td>\n",
       "      <td>952</td>\n",
       "      <td>gossipcop-3645597267</td>\n",
       "      <td>www.girlfriend.com.au/kourtney-kardashian-blas...</td>\n",
       "      <td>Kourtney Kardashian blasts pregnant sister Khl...</td>\n",
       "      <td>Video from the upcoming season finale of Keepi...</td>\n",
       "      <td>['fake_gossipcop-3645597267_1000-khloe-kourtne...</td>\n",
       "      <td>970403514911358976\\t992690721353236482\\t102183...</td>\n",
       "      <td>['fake_gossipcop-3645597267_1000-khloe-kourtne...</td>\n",
       "      <td>1</td>\n",
       "      <td>1</td>\n",
       "    </tr>\n",
       "    <tr>\n",
       "      <th>4</th>\n",
       "      <td>4</td>\n",
       "      <td>1581</td>\n",
       "      <td>gossipcop-5241351348</td>\n",
       "      <td>spinditty.com/genres/Why-Madonna-Succeeded-Whe...</td>\n",
       "      <td>Why Madonna Succeeded Where Cyndi Lauper Failed</td>\n",
       "      <td>Madonna and Cyndi Lauper appeared on the music...</td>\n",
       "      <td>['fake_gossipcop-5241351348_8437876.jpg', 'fak...</td>\n",
       "      <td>389894905788502016\\t390585558646681600\\t430426...</td>\n",
       "      <td>['fake_gossipcop-5241351348_8437876.jpg', 'fak...</td>\n",
       "      <td>1</td>\n",
       "      <td>3</td>\n",
       "    </tr>\n",
       "  </tbody>\n",
       "</table>\n",
       "</div>"
      ],
      "text/plain": [
       "   Unnamed: 0  Unnamed: 0.1               news_id  \\\n",
       "0           0           984  gossipcop-3507938806   \n",
       "1           1          1579  gossipcop-8115207261   \n",
       "2           2           657  gossipcop-7544598697   \n",
       "3           3           952  gossipcop-3645597267   \n",
       "4           4          1581  gossipcop-5241351348   \n",
       "\n",
       "                                                 url  \\\n",
       "0  www.foxnews.com/entertainment/2017/07/12/donal...   \n",
       "1  www.dailystar.co.uk/showbiz/678030/Lady-Gaga-p...   \n",
       "2  www.hollywoodreporter.com/news/oscars-2017-mem...   \n",
       "3  www.girlfriend.com.au/kourtney-kardashian-blas...   \n",
       "4  spinditty.com/genres/Why-Madonna-Succeeded-Whe...   \n",
       "\n",
       "                                               title  \\\n",
       "0  Donald Trump Jr. releases email exchange: Cele...   \n",
       "1  What has Lady Gaga done to her face? Plastic s...   \n",
       "2  Oscars \"In Memoriam\": Garry Shandling, Robert ...   \n",
       "3  Kourtney Kardashian blasts pregnant sister Khl...   \n",
       "4    Why Madonna Succeeded Where Cyndi Lauper Failed   \n",
       "\n",
       "                                             content  \\\n",
       "0  Donald Trump Jr. has been making headlines thi...   \n",
       "1  The video will auto-play soon 8 Cancel\\n\\nSign...   \n",
       "2  Oscars \"In Memoriam\": Garry Shandling, Robert ...   \n",
       "3  Video from the upcoming season finale of Keepi...   \n",
       "4  Madonna and Cyndi Lauper appeared on the music...   \n",
       "\n",
       "                                              images  \\\n",
       "0  ['fake_gossipcop-3507938806_headshot-48513.jpg...   \n",
       "1          ['fake_gossipcop-8115207261_1219768.jpg']   \n",
       "2  ['fake_gossipcop-7544598697_split_vaughn_shand...   \n",
       "3  ['fake_gossipcop-3645597267_1000-khloe-kourtne...   \n",
       "4  ['fake_gossipcop-5241351348_8437876.jpg', 'fak...   \n",
       "\n",
       "                                           tweet_ids  \\\n",
       "0  885131701877428224\\t885131769896472577\\t885131...   \n",
       "1  958296018965225472\\t958331247956320256\\t958343...   \n",
       "2  836090741512273921\\t836092215893995520\\t836098...   \n",
       "3  970403514911358976\\t992690721353236482\\t102183...   \n",
       "4  389894905788502016\\t390585558646681600\\t430426...   \n",
       "\n",
       "                                          image_list  label  clean_nb_imgs  \n",
       "0  ['fake_gossipcop-3507938806_headshot-48513.jpg...      1              3  \n",
       "1          ['fake_gossipcop-8115207261_1219768.jpg']      1              1  \n",
       "2  ['fake_gossipcop-7544598697_split_vaughn_shand...      1              2  \n",
       "3  ['fake_gossipcop-3645597267_1000-khloe-kourtne...      1              1  \n",
       "4  ['fake_gossipcop-5241351348_8437876.jpg', 'fak...      1              3  "
      ]
     },
     "execution_count": 5,
     "metadata": {},
     "output_type": "execute_result"
    }
   ],
   "source": [
    "df_clean.head()"
   ]
  },
  {
   "cell_type": "code",
   "execution_count": 6,
   "id": "subject-person",
   "metadata": {},
   "outputs": [
    {
     "data": {
      "text/html": [
       "<div>\n",
       "<style scoped>\n",
       "    .dataframe tbody tr th:only-of-type {\n",
       "        vertical-align: middle;\n",
       "    }\n",
       "\n",
       "    .dataframe tbody tr th {\n",
       "        vertical-align: top;\n",
       "    }\n",
       "\n",
       "    .dataframe thead th {\n",
       "        text-align: right;\n",
       "    }\n",
       "</style>\n",
       "<table border=\"1\" class=\"dataframe\">\n",
       "  <thead>\n",
       "    <tr style=\"text-align: right;\">\n",
       "      <th></th>\n",
       "      <th>Unnamed: 0</th>\n",
       "      <th>Unnamed: 0.1</th>\n",
       "      <th>unique_id</th>\n",
       "      <th>title</th>\n",
       "      <th>text</th>\n",
       "      <th>im_links</th>\n",
       "      <th>nb_im_links</th>\n",
       "      <th>label</th>\n",
       "      <th>im_list</th>\n",
       "      <th>clean_nb_imgs</th>\n",
       "    </tr>\n",
       "  </thead>\n",
       "  <tbody>\n",
       "    <tr>\n",
       "      <th>0</th>\n",
       "      <td>0</td>\n",
       "      <td>0</td>\n",
       "      <td>gossipcop-946696</td>\n",
       "      <td>World's Ugliest Dog title goes to ... Zsa Zsa,...</td>\n",
       "      <td>Associated Press\\n\\nPETALUMA, Calif. (AP) — A ...</td>\n",
       "      <td>https://www.gannett-cdn.com/-mm-/34cb5eda691ff...</td>\n",
       "      <td>2</td>\n",
       "      <td>0</td>\n",
       "      <td>gossipcop/real/gossipcop-946696/Images/gossipc...</td>\n",
       "      <td>2</td>\n",
       "    </tr>\n",
       "    <tr>\n",
       "      <th>1</th>\n",
       "      <td>1</td>\n",
       "      <td>1</td>\n",
       "      <td>gossipcop-912908</td>\n",
       "      <td>Tyler Perry’s House Of Payne Is Coming Back to...</td>\n",
       "      <td>Tyler Perry’s breakout television series House...</td>\n",
       "      <td>https://thetoptea.com/wp-content/uploads/the-h...</td>\n",
       "      <td>6</td>\n",
       "      <td>0</td>\n",
       "      <td>gossipcop/real/gossipcop-912908/Images/gossipc...</td>\n",
       "      <td>6</td>\n",
       "    </tr>\n",
       "    <tr>\n",
       "      <th>2</th>\n",
       "      <td>2</td>\n",
       "      <td>2</td>\n",
       "      <td>gossipcop-914944</td>\n",
       "      <td>Kesha postpones spring tour dates ahead of sur...</td>\n",
       "      <td>Kesha’s fans in Australia, New Zealand, Taiwan...</td>\n",
       "      <td>https://imagesvc.meredithcorp.io/v3/mm/image?u...</td>\n",
       "      <td>7</td>\n",
       "      <td>0</td>\n",
       "      <td>gossipcop/real/gossipcop-914944/Images/gossipc...</td>\n",
       "      <td>5</td>\n",
       "    </tr>\n",
       "    <tr>\n",
       "      <th>3</th>\n",
       "      <td>3</td>\n",
       "      <td>3</td>\n",
       "      <td>gossipcop-908959</td>\n",
       "      <td>Kim Kardashian shuts down rumors about baby nu...</td>\n",
       "      <td>Kim Kardashian and husband Kanye West aren't a...</td>\n",
       "      <td>https://i.dailymail.co.uk/1s/2020/10/02/16/339...</td>\n",
       "      <td>487</td>\n",
       "      <td>0</td>\n",
       "      <td>gossipcop/real/gossipcop-908959/Images/gossipc...</td>\n",
       "      <td>484</td>\n",
       "    </tr>\n",
       "    <tr>\n",
       "      <th>4</th>\n",
       "      <td>4</td>\n",
       "      <td>4</td>\n",
       "      <td>gossipcop-881260</td>\n",
       "      <td>Kevin Hart's Extortion Case &amp; Cheating Rumors:...</td>\n",
       "      <td>The FBI is reportedly investigating an alleged...</td>\n",
       "      <td>https://peopledotcom.files.wordpress.com/2018/...</td>\n",
       "      <td>14</td>\n",
       "      <td>0</td>\n",
       "      <td>gossipcop/real/gossipcop-881260/Images/gossipc...</td>\n",
       "      <td>11</td>\n",
       "    </tr>\n",
       "  </tbody>\n",
       "</table>\n",
       "</div>"
      ],
      "text/plain": [
       "   Unnamed: 0  Unnamed: 0.1         unique_id  \\\n",
       "0           0             0  gossipcop-946696   \n",
       "1           1             1  gossipcop-912908   \n",
       "2           2             2  gossipcop-914944   \n",
       "3           3             3  gossipcop-908959   \n",
       "4           4             4  gossipcop-881260   \n",
       "\n",
       "                                               title  \\\n",
       "0  World's Ugliest Dog title goes to ... Zsa Zsa,...   \n",
       "1  Tyler Perry’s House Of Payne Is Coming Back to...   \n",
       "2  Kesha postpones spring tour dates ahead of sur...   \n",
       "3  Kim Kardashian shuts down rumors about baby nu...   \n",
       "4  Kevin Hart's Extortion Case & Cheating Rumors:...   \n",
       "\n",
       "                                                text  \\\n",
       "0  Associated Press\\n\\nPETALUMA, Calif. (AP) — A ...   \n",
       "1  Tyler Perry’s breakout television series House...   \n",
       "2  Kesha’s fans in Australia, New Zealand, Taiwan...   \n",
       "3  Kim Kardashian and husband Kanye West aren't a...   \n",
       "4  The FBI is reportedly investigating an alleged...   \n",
       "\n",
       "                                            im_links  nb_im_links  label  \\\n",
       "0  https://www.gannett-cdn.com/-mm-/34cb5eda691ff...            2      0   \n",
       "1  https://thetoptea.com/wp-content/uploads/the-h...            6      0   \n",
       "2  https://imagesvc.meredithcorp.io/v3/mm/image?u...            7      0   \n",
       "3  https://i.dailymail.co.uk/1s/2020/10/02/16/339...          487      0   \n",
       "4  https://peopledotcom.files.wordpress.com/2018/...           14      0   \n",
       "\n",
       "                                             im_list  clean_nb_imgs  \n",
       "0  gossipcop/real/gossipcop-946696/Images/gossipc...              2  \n",
       "1  gossipcop/real/gossipcop-912908/Images/gossipc...              6  \n",
       "2  gossipcop/real/gossipcop-914944/Images/gossipc...              5  \n",
       "3  gossipcop/real/gossipcop-908959/Images/gossipc...            484  \n",
       "4  gossipcop/real/gossipcop-881260/Images/gossipc...             11  "
      ]
     },
     "execution_count": 6,
     "metadata": {},
     "output_type": "execute_result"
    }
   ],
   "source": [
    "df_raw.head()"
   ]
  },
  {
   "cell_type": "code",
   "execution_count": 7,
   "id": "nuclear-taiwan",
   "metadata": {},
   "outputs": [],
   "source": [
    "df_clean = df_clean.rename(columns={'news_id': 'unique_id'})"
   ]
  },
  {
   "cell_type": "markdown",
   "id": "objective-campus",
   "metadata": {},
   "source": [
    "Finding image properties"
   ]
  },
  {
   "cell_type": "code",
   "execution_count": 22,
   "id": "explicit-joint",
   "metadata": {},
   "outputs": [],
   "source": [
    "def image_properties(img_list, IMAGE_ROOT_DIR, df):\n",
    "    \n",
    "#     img_list = img_list.strip(\"][\").split(\", \")\n",
    "    img_list = img_list.split(\";\")\n",
    "    for img_name in img_list:\n",
    "#         img = Path(IMAGE_ROOT_DIR) / img_name[1:-1]\n",
    "        img = Path(IMAGE_ROOT_DIR) / img_name\n",
    "        try:\n",
    "            image = Image.open(img).convert(\"RGB\") ## Read the image\n",
    "            \n",
    "            df.loc[len(df.index)] = [str(img), image.size[0], image.size[1], image.size[1]/image.size[0]]\n",
    "        except Exception as e:\n",
    "            continue"
   ]
  },
  {
   "cell_type": "code",
   "execution_count": 16,
   "id": "varied-topic",
   "metadata": {
    "scrolled": true
   },
   "outputs": [
    {
     "data": {
      "application/vnd.jupyter.widget-view+json": {
       "model_id": "b932de2d0fdf4dcd8aeb229a32ed86b8",
       "version_major": 2,
       "version_minor": 0
      },
      "text/plain": [
       "  0%|          | 0/3480 [00:00<?, ?it/s]"
      ]
     },
     "metadata": {},
     "output_type": "display_data"
    },
    {
     "name": "stderr",
     "output_type": "stream",
     "text": [
      "/home/shivangi/.conda/envs/fakenews/lib/python3.7/site-packages/PIL/Image.py:963: UserWarning: Palette images with Transparency expressed in bytes should be converted to RGBA images\n",
      "  \"Palette images with Transparency expressed in bytes should be \"\n"
     ]
    },
    {
     "data": {
      "text/plain": [
       "0       None\n",
       "1       None\n",
       "2       None\n",
       "3       None\n",
       "4       None\n",
       "        ... \n",
       "3475    None\n",
       "3476    None\n",
       "3477    None\n",
       "3478    None\n",
       "3479    None\n",
       "Length: 3480, dtype: object"
      ]
     },
     "execution_count": 16,
     "metadata": {},
     "output_type": "execute_result"
    }
   ],
   "source": [
    "clean_images_prop = pd.DataFrame(columns=['image_name', \"height\", \"width\", \"aspect_ratio\"])\n",
    "df_clean.progress_apply(lambda row: image_properties(row['images'], IMAGE_ROOT_DIR_CLEAN, clean_images_prop), axis=1)"
   ]
  },
  {
   "cell_type": "code",
   "execution_count": 18,
   "id": "lightweight-cycle",
   "metadata": {},
   "outputs": [
    {
     "data": {
      "text/plain": [
       "(6082, 4)"
      ]
     },
     "execution_count": 18,
     "metadata": {},
     "output_type": "execute_result"
    }
   ],
   "source": [
    "clean_images_prop.shape"
   ]
  },
  {
   "cell_type": "code",
   "execution_count": 20,
   "id": "different-central",
   "metadata": {},
   "outputs": [
    {
     "data": {
      "text/html": [
       "<div>\n",
       "<style scoped>\n",
       "    .dataframe tbody tr th:only-of-type {\n",
       "        vertical-align: middle;\n",
       "    }\n",
       "\n",
       "    .dataframe tbody tr th {\n",
       "        vertical-align: top;\n",
       "    }\n",
       "\n",
       "    .dataframe thead th {\n",
       "        text-align: right;\n",
       "    }\n",
       "</style>\n",
       "<table border=\"1\" class=\"dataframe\">\n",
       "  <thead>\n",
       "    <tr style=\"text-align: right;\">\n",
       "      <th></th>\n",
       "      <th>image_name</th>\n",
       "      <th>height</th>\n",
       "      <th>width</th>\n",
       "      <th>aspect_ratio</th>\n",
       "    </tr>\n",
       "  </thead>\n",
       "  <tbody>\n",
       "    <tr>\n",
       "      <th>0</th>\n",
       "      <td>/media/data_dump/Shivangi/Mudit/dataset/gossip...</td>\n",
       "      <td>340</td>\n",
       "      <td>340</td>\n",
       "      <td>1.000000</td>\n",
       "    </tr>\n",
       "    <tr>\n",
       "      <th>1</th>\n",
       "      <td>/media/data_dump/Shivangi/Mudit/dataset/gossip...</td>\n",
       "      <td>1296</td>\n",
       "      <td>864</td>\n",
       "      <td>0.666667</td>\n",
       "    </tr>\n",
       "    <tr>\n",
       "      <th>2</th>\n",
       "      <td>/media/data_dump/Shivangi/Mudit/dataset/gossip...</td>\n",
       "      <td>1296</td>\n",
       "      <td>864</td>\n",
       "      <td>0.666667</td>\n",
       "    </tr>\n",
       "    <tr>\n",
       "      <th>3</th>\n",
       "      <td>/media/data_dump/Shivangi/Mudit/dataset/gossip...</td>\n",
       "      <td>1200</td>\n",
       "      <td>630</td>\n",
       "      <td>0.525000</td>\n",
       "    </tr>\n",
       "    <tr>\n",
       "      <th>4</th>\n",
       "      <td>/media/data_dump/Shivangi/Mudit/dataset/gossip...</td>\n",
       "      <td>1296</td>\n",
       "      <td>730</td>\n",
       "      <td>0.563272</td>\n",
       "    </tr>\n",
       "  </tbody>\n",
       "</table>\n",
       "</div>"
      ],
      "text/plain": [
       "                                          image_name height width  \\\n",
       "0  /media/data_dump/Shivangi/Mudit/dataset/gossip...    340   340   \n",
       "1  /media/data_dump/Shivangi/Mudit/dataset/gossip...   1296   864   \n",
       "2  /media/data_dump/Shivangi/Mudit/dataset/gossip...   1296   864   \n",
       "3  /media/data_dump/Shivangi/Mudit/dataset/gossip...   1200   630   \n",
       "4  /media/data_dump/Shivangi/Mudit/dataset/gossip...   1296   730   \n",
       "\n",
       "   aspect_ratio  \n",
       "0      1.000000  \n",
       "1      0.666667  \n",
       "2      0.666667  \n",
       "3      0.525000  \n",
       "4      0.563272  "
      ]
     },
     "execution_count": 20,
     "metadata": {},
     "output_type": "execute_result"
    }
   ],
   "source": [
    "clean_images_prop.head()"
   ]
  },
  {
   "cell_type": "code",
   "execution_count": null,
   "id": "stock-tension",
   "metadata": {},
   "outputs": [],
   "source": [
    "clean_images_prop.to_csv(\"./image_properties_csv/clean_images_properties.csv\")"
   ]
  },
  {
   "cell_type": "code",
   "execution_count": null,
   "id": "alpine-bahamas",
   "metadata": {},
   "outputs": [
    {
     "data": {
      "application/vnd.jupyter.widget-view+json": {
       "model_id": "ded89f04f8134a4981f0896495b3520b",
       "version_major": 2,
       "version_minor": 0
      },
      "text/plain": [
       "  0%|          | 0/15193 [00:00<?, ?it/s]"
      ]
     },
     "metadata": {},
     "output_type": "display_data"
    },
    {
     "name": "stderr",
     "output_type": "stream",
     "text": [
      "/home/shivangi/.conda/envs/fakenews/lib/python3.7/site-packages/PIL/Image.py:2957: UserWarning: image file could not be identified because WEBP support not installed\n",
      "  warnings.warn(message)\n",
      "/home/shivangi/.conda/envs/fakenews/lib/python3.7/site-packages/PIL/Image.py:963: UserWarning: Palette images with Transparency expressed in bytes should be converted to RGBA images\n",
      "  \"Palette images with Transparency expressed in bytes should be \"\n",
      "/home/shivangi/.conda/envs/fakenews/lib/python3.7/site-packages/PIL/TiffImagePlugin.py:793: UserWarning: Corrupt EXIF data.  Expecting to read 4 bytes but only got 0. \n",
      "  warnings.warn(str(msg))\n",
      "/home/shivangi/.conda/envs/fakenews/lib/python3.7/site-packages/PIL/TiffImagePlugin.py:772: UserWarning: Possibly corrupt EXIF data.  Expecting to read 20 bytes but only got 19. Skipping tag 42036\n",
      "  \"Possibly corrupt EXIF data.  \"\n"
     ]
    }
   ],
   "source": [
    "raw_images_prop = pd.DataFrame(columns=['image_name', \"height\", \"width\", \"aspect_ratio\"])\n",
    "df_raw.progress_apply(lambda row: image_properties(row['im_list'], IMAGE_ROOT_DIR_RAW, raw_images_prop), axis=1)"
   ]
  },
  {
   "cell_type": "code",
   "execution_count": null,
   "id": "passing-migration",
   "metadata": {},
   "outputs": [],
   "source": [
    "raw_images_prop.to_csv(\"./image_properties_csv/raw_images_properties.csv\")"
   ]
  },
  {
   "cell_type": "code",
   "execution_count": null,
   "id": "voluntary-round",
   "metadata": {},
   "outputs": [],
   "source": [
    "raw_images_prop.head()"
   ]
  },
  {
   "cell_type": "code",
   "execution_count": null,
   "id": "typical-salon",
   "metadata": {},
   "outputs": [],
   "source": [
    "df_raw.shape"
   ]
  },
  {
   "cell_type": "code",
   "execution_count": 4,
   "id": "israeli-helena",
   "metadata": {},
   "outputs": [],
   "source": [
    "raw_images_prop = pd.read_csv(\"./image_properties_csv/raw_images_properties.csv\")\n",
    "clean_images_prop = pd.read_csv(\"./image_properties_csv/clean_images_properties.csv\")"
   ]
  },
  {
   "cell_type": "code",
   "execution_count": 10,
   "id": "impressive-arrival",
   "metadata": {},
   "outputs": [
    {
     "data": {
      "text/plain": [
       "'/media/data_dump/Shivangi/Mudit/dataset/gossipcop/gossipcop_images/fake_gossipcop-3507938806_headshot-48513.jpg'"
      ]
     },
     "execution_count": 10,
     "metadata": {},
     "output_type": "execute_result"
    }
   ],
   "source": [
    "clean_images_prop.iloc[0]['image_name']"
   ]
  },
  {
   "cell_type": "code",
   "execution_count": 7,
   "id": "judicial-ribbon",
   "metadata": {},
   "outputs": [],
   "source": [
    "def find_ui_raw(image_name):\n",
    "    start = \"raw_gossipcop/gossipcop/\"\n",
    "    end = \"/Images/\"\n",
    "    ui = image_name[image_name.find(start)+len(start):image_name.rfind(end)].split(\"/\")[1]\n",
    "    return ui"
   ]
  },
  {
   "cell_type": "code",
   "execution_count": 8,
   "id": "logical-index",
   "metadata": {},
   "outputs": [
    {
     "data": {
      "application/vnd.jupyter.widget-view+json": {
       "model_id": "720fb989f4674beab4cdc11bf548db6c",
       "version_major": 2,
       "version_minor": 0
      },
      "text/plain": [
       "  0%|          | 0/506478 [00:00<?, ?it/s]"
      ]
     },
     "metadata": {},
     "output_type": "display_data"
    }
   ],
   "source": [
    "raw_images_prop['unique_id'] = raw_images_prop.progress_apply(lambda row: find_ui_raw(row['image_name']), axis=1)"
   ]
  },
  {
   "cell_type": "code",
   "execution_count": 11,
   "id": "proper-individual",
   "metadata": {},
   "outputs": [
    {
     "data": {
      "text/html": [
       "<div>\n",
       "<style scoped>\n",
       "    .dataframe tbody tr th:only-of-type {\n",
       "        vertical-align: middle;\n",
       "    }\n",
       "\n",
       "    .dataframe tbody tr th {\n",
       "        vertical-align: top;\n",
       "    }\n",
       "\n",
       "    .dataframe thead th {\n",
       "        text-align: right;\n",
       "    }\n",
       "</style>\n",
       "<table border=\"1\" class=\"dataframe\">\n",
       "  <thead>\n",
       "    <tr style=\"text-align: right;\">\n",
       "      <th></th>\n",
       "      <th>Unnamed: 0</th>\n",
       "      <th>image_name</th>\n",
       "      <th>height</th>\n",
       "      <th>width</th>\n",
       "      <th>aspect_ratio</th>\n",
       "      <th>unique_id</th>\n",
       "    </tr>\n",
       "  </thead>\n",
       "  <tbody>\n",
       "    <tr>\n",
       "      <th>0</th>\n",
       "      <td>0</td>\n",
       "      <td>/media/data_dump/Shivangi/Mudit/dataset/raw_go...</td>\n",
       "      <td>3200</td>\n",
       "      <td>1808</td>\n",
       "      <td>0.565000</td>\n",
       "      <td>gossipcop-946696</td>\n",
       "    </tr>\n",
       "    <tr>\n",
       "      <th>1</th>\n",
       "      <td>1</td>\n",
       "      <td>/media/data_dump/Shivangi/Mudit/dataset/raw_go...</td>\n",
       "      <td>660</td>\n",
       "      <td>373</td>\n",
       "      <td>0.565152</td>\n",
       "      <td>gossipcop-946696</td>\n",
       "    </tr>\n",
       "    <tr>\n",
       "      <th>2</th>\n",
       "      <td>2</td>\n",
       "      <td>/media/data_dump/Shivangi/Mudit/dataset/raw_go...</td>\n",
       "      <td>20</td>\n",
       "      <td>11</td>\n",
       "      <td>0.550000</td>\n",
       "      <td>gossipcop-912908</td>\n",
       "    </tr>\n",
       "    <tr>\n",
       "      <th>3</th>\n",
       "      <td>3</td>\n",
       "      <td>/media/data_dump/Shivangi/Mudit/dataset/raw_go...</td>\n",
       "      <td>164</td>\n",
       "      <td>164</td>\n",
       "      <td>1.000000</td>\n",
       "      <td>gossipcop-912908</td>\n",
       "    </tr>\n",
       "    <tr>\n",
       "      <th>4</th>\n",
       "      <td>4</td>\n",
       "      <td>/media/data_dump/Shivangi/Mudit/dataset/raw_go...</td>\n",
       "      <td>200</td>\n",
       "      <td>200</td>\n",
       "      <td>1.000000</td>\n",
       "      <td>gossipcop-912908</td>\n",
       "    </tr>\n",
       "  </tbody>\n",
       "</table>\n",
       "</div>"
      ],
      "text/plain": [
       "   Unnamed: 0                                         image_name  height  \\\n",
       "0           0  /media/data_dump/Shivangi/Mudit/dataset/raw_go...    3200   \n",
       "1           1  /media/data_dump/Shivangi/Mudit/dataset/raw_go...     660   \n",
       "2           2  /media/data_dump/Shivangi/Mudit/dataset/raw_go...      20   \n",
       "3           3  /media/data_dump/Shivangi/Mudit/dataset/raw_go...     164   \n",
       "4           4  /media/data_dump/Shivangi/Mudit/dataset/raw_go...     200   \n",
       "\n",
       "   width  aspect_ratio         unique_id  \n",
       "0   1808      0.565000  gossipcop-946696  \n",
       "1    373      0.565152  gossipcop-946696  \n",
       "2     11      0.550000  gossipcop-912908  \n",
       "3    164      1.000000  gossipcop-912908  \n",
       "4    200      1.000000  gossipcop-912908  "
      ]
     },
     "execution_count": 11,
     "metadata": {},
     "output_type": "execute_result"
    }
   ],
   "source": [
    "raw_images_prop.to_csv(\"./image_properties_csv/raw_images_properties.csv\")\n",
    "raw_images_prop.head()"
   ]
  },
  {
   "cell_type": "code",
   "execution_count": 12,
   "id": "tight-deputy",
   "metadata": {},
   "outputs": [],
   "source": [
    "def find_ui_clean(image_name):\n",
    "    start = \"gossipcop/gossipcop_images/\"\n",
    "    end = \".jpg\"\n",
    "    ui = image_name[image_name.find(start)+len(start):image_name.rfind(end)].split(\"_\")[1]\n",
    "    return ui"
   ]
  },
  {
   "cell_type": "code",
   "execution_count": 13,
   "id": "unauthorized-yemen",
   "metadata": {},
   "outputs": [
    {
     "data": {
      "application/vnd.jupyter.widget-view+json": {
       "model_id": "cc87d9b356f64c3d97e8aeb98c43188f",
       "version_major": 2,
       "version_minor": 0
      },
      "text/plain": [
       "  0%|          | 0/6082 [00:00<?, ?it/s]"
      ]
     },
     "metadata": {},
     "output_type": "display_data"
    }
   ],
   "source": [
    "clean_images_prop['unique_id'] = clean_images_prop.progress_apply(lambda row: find_ui_clean(row['image_name']), axis=1)"
   ]
  },
  {
   "cell_type": "code",
   "execution_count": 15,
   "id": "through-communication",
   "metadata": {},
   "outputs": [
    {
     "data": {
      "text/html": [
       "<div>\n",
       "<style scoped>\n",
       "    .dataframe tbody tr th:only-of-type {\n",
       "        vertical-align: middle;\n",
       "    }\n",
       "\n",
       "    .dataframe tbody tr th {\n",
       "        vertical-align: top;\n",
       "    }\n",
       "\n",
       "    .dataframe thead th {\n",
       "        text-align: right;\n",
       "    }\n",
       "</style>\n",
       "<table border=\"1\" class=\"dataframe\">\n",
       "  <thead>\n",
       "    <tr style=\"text-align: right;\">\n",
       "      <th></th>\n",
       "      <th>Unnamed: 0</th>\n",
       "      <th>image_name</th>\n",
       "      <th>height</th>\n",
       "      <th>width</th>\n",
       "      <th>aspect_ratio</th>\n",
       "      <th>unique_id</th>\n",
       "    </tr>\n",
       "  </thead>\n",
       "  <tbody>\n",
       "    <tr>\n",
       "      <th>0</th>\n",
       "      <td>0</td>\n",
       "      <td>/media/data_dump/Shivangi/Mudit/dataset/gossip...</td>\n",
       "      <td>340</td>\n",
       "      <td>340</td>\n",
       "      <td>1.000000</td>\n",
       "      <td>gossipcop-3507938806</td>\n",
       "    </tr>\n",
       "    <tr>\n",
       "      <th>1</th>\n",
       "      <td>1</td>\n",
       "      <td>/media/data_dump/Shivangi/Mudit/dataset/gossip...</td>\n",
       "      <td>1296</td>\n",
       "      <td>864</td>\n",
       "      <td>0.666667</td>\n",
       "      <td>gossipcop-3507938806</td>\n",
       "    </tr>\n",
       "    <tr>\n",
       "      <th>2</th>\n",
       "      <td>2</td>\n",
       "      <td>/media/data_dump/Shivangi/Mudit/dataset/gossip...</td>\n",
       "      <td>1296</td>\n",
       "      <td>864</td>\n",
       "      <td>0.666667</td>\n",
       "      <td>gossipcop-3507938806</td>\n",
       "    </tr>\n",
       "    <tr>\n",
       "      <th>3</th>\n",
       "      <td>3</td>\n",
       "      <td>/media/data_dump/Shivangi/Mudit/dataset/gossip...</td>\n",
       "      <td>1200</td>\n",
       "      <td>630</td>\n",
       "      <td>0.525000</td>\n",
       "      <td>gossipcop-8115207261</td>\n",
       "    </tr>\n",
       "    <tr>\n",
       "      <th>4</th>\n",
       "      <td>4</td>\n",
       "      <td>/media/data_dump/Shivangi/Mudit/dataset/gossip...</td>\n",
       "      <td>1296</td>\n",
       "      <td>730</td>\n",
       "      <td>0.563272</td>\n",
       "      <td>gossipcop-7544598697</td>\n",
       "    </tr>\n",
       "  </tbody>\n",
       "</table>\n",
       "</div>"
      ],
      "text/plain": [
       "   Unnamed: 0                                         image_name  height  \\\n",
       "0           0  /media/data_dump/Shivangi/Mudit/dataset/gossip...     340   \n",
       "1           1  /media/data_dump/Shivangi/Mudit/dataset/gossip...    1296   \n",
       "2           2  /media/data_dump/Shivangi/Mudit/dataset/gossip...    1296   \n",
       "3           3  /media/data_dump/Shivangi/Mudit/dataset/gossip...    1200   \n",
       "4           4  /media/data_dump/Shivangi/Mudit/dataset/gossip...    1296   \n",
       "\n",
       "   width  aspect_ratio             unique_id  \n",
       "0    340      1.000000  gossipcop-3507938806  \n",
       "1    864      0.666667  gossipcop-3507938806  \n",
       "2    864      0.666667  gossipcop-3507938806  \n",
       "3    630      0.525000  gossipcop-8115207261  \n",
       "4    730      0.563272  gossipcop-7544598697  "
      ]
     },
     "execution_count": 15,
     "metadata": {},
     "output_type": "execute_result"
    }
   ],
   "source": [
    "clean_images_prop.to_csv(\"./image_properties_csv/clean_images_properties.csv\")\n",
    "clean_images_prop.head()"
   ]
  },
  {
   "cell_type": "code",
   "execution_count": 18,
   "id": "massive-crazy",
   "metadata": {},
   "outputs": [],
   "source": [
    "def get_img_size(image_name):\n",
    "    return os.stat(image_name).st_size"
   ]
  },
  {
   "cell_type": "code",
   "execution_count": 19,
   "id": "adverse-penguin",
   "metadata": {},
   "outputs": [
    {
     "data": {
      "application/vnd.jupyter.widget-view+json": {
       "model_id": "4b93c8c408d54c928d30c9f4f16c6dd8",
       "version_major": 2,
       "version_minor": 0
      },
      "text/plain": [
       "  0%|          | 0/6082 [00:00<?, ?it/s]"
      ]
     },
     "metadata": {},
     "output_type": "display_data"
    }
   ],
   "source": [
    "clean_images_prop['image_size'] = clean_images_prop.progress_apply(lambda row: get_img_size(row['image_name']), axis=1)"
   ]
  },
  {
   "cell_type": "code",
   "execution_count": 21,
   "id": "coated-socket",
   "metadata": {},
   "outputs": [
    {
     "data": {
      "text/html": [
       "<div>\n",
       "<style scoped>\n",
       "    .dataframe tbody tr th:only-of-type {\n",
       "        vertical-align: middle;\n",
       "    }\n",
       "\n",
       "    .dataframe tbody tr th {\n",
       "        vertical-align: top;\n",
       "    }\n",
       "\n",
       "    .dataframe thead th {\n",
       "        text-align: right;\n",
       "    }\n",
       "</style>\n",
       "<table border=\"1\" class=\"dataframe\">\n",
       "  <thead>\n",
       "    <tr style=\"text-align: right;\">\n",
       "      <th></th>\n",
       "      <th>Unnamed: 0</th>\n",
       "      <th>image_name</th>\n",
       "      <th>height</th>\n",
       "      <th>width</th>\n",
       "      <th>aspect_ratio</th>\n",
       "      <th>unique_id</th>\n",
       "      <th>image_size</th>\n",
       "    </tr>\n",
       "  </thead>\n",
       "  <tbody>\n",
       "    <tr>\n",
       "      <th>0</th>\n",
       "      <td>0</td>\n",
       "      <td>/media/data_dump/Shivangi/Mudit/dataset/gossip...</td>\n",
       "      <td>340</td>\n",
       "      <td>340</td>\n",
       "      <td>1.000000</td>\n",
       "      <td>gossipcop-3507938806</td>\n",
       "      <td>15592</td>\n",
       "    </tr>\n",
       "    <tr>\n",
       "      <th>1</th>\n",
       "      <td>1</td>\n",
       "      <td>/media/data_dump/Shivangi/Mudit/dataset/gossip...</td>\n",
       "      <td>1296</td>\n",
       "      <td>864</td>\n",
       "      <td>0.666667</td>\n",
       "      <td>gossipcop-3507938806</td>\n",
       "      <td>264416</td>\n",
       "    </tr>\n",
       "    <tr>\n",
       "      <th>2</th>\n",
       "      <td>2</td>\n",
       "      <td>/media/data_dump/Shivangi/Mudit/dataset/gossip...</td>\n",
       "      <td>1296</td>\n",
       "      <td>864</td>\n",
       "      <td>0.666667</td>\n",
       "      <td>gossipcop-3507938806</td>\n",
       "      <td>264416</td>\n",
       "    </tr>\n",
       "    <tr>\n",
       "      <th>3</th>\n",
       "      <td>3</td>\n",
       "      <td>/media/data_dump/Shivangi/Mudit/dataset/gossip...</td>\n",
       "      <td>1200</td>\n",
       "      <td>630</td>\n",
       "      <td>0.525000</td>\n",
       "      <td>gossipcop-8115207261</td>\n",
       "      <td>102164</td>\n",
       "    </tr>\n",
       "    <tr>\n",
       "      <th>4</th>\n",
       "      <td>4</td>\n",
       "      <td>/media/data_dump/Shivangi/Mudit/dataset/gossip...</td>\n",
       "      <td>1296</td>\n",
       "      <td>730</td>\n",
       "      <td>0.563272</td>\n",
       "      <td>gossipcop-7544598697</td>\n",
       "      <td>150689</td>\n",
       "    </tr>\n",
       "  </tbody>\n",
       "</table>\n",
       "</div>"
      ],
      "text/plain": [
       "   Unnamed: 0                                         image_name  height  \\\n",
       "0           0  /media/data_dump/Shivangi/Mudit/dataset/gossip...     340   \n",
       "1           1  /media/data_dump/Shivangi/Mudit/dataset/gossip...    1296   \n",
       "2           2  /media/data_dump/Shivangi/Mudit/dataset/gossip...    1296   \n",
       "3           3  /media/data_dump/Shivangi/Mudit/dataset/gossip...    1200   \n",
       "4           4  /media/data_dump/Shivangi/Mudit/dataset/gossip...    1296   \n",
       "\n",
       "   width  aspect_ratio             unique_id  image_size  \n",
       "0    340      1.000000  gossipcop-3507938806       15592  \n",
       "1    864      0.666667  gossipcop-3507938806      264416  \n",
       "2    864      0.666667  gossipcop-3507938806      264416  \n",
       "3    630      0.525000  gossipcop-8115207261      102164  \n",
       "4    730      0.563272  gossipcop-7544598697      150689  "
      ]
     },
     "execution_count": 21,
     "metadata": {},
     "output_type": "execute_result"
    }
   ],
   "source": [
    "clean_images_prop.to_csv(\"./image_properties_csv/clean_images_properties.csv\")\n",
    "clean_images_prop.head()"
   ]
  },
  {
   "cell_type": "code",
   "execution_count": 22,
   "id": "polyphonic-firewall",
   "metadata": {},
   "outputs": [
    {
     "data": {
      "application/vnd.jupyter.widget-view+json": {
       "model_id": "d8a5a7002e0449f48ab4edd7f3d3abef",
       "version_major": 2,
       "version_minor": 0
      },
      "text/plain": [
       "  0%|          | 0/506478 [00:00<?, ?it/s]"
      ]
     },
     "metadata": {},
     "output_type": "display_data"
    }
   ],
   "source": [
    "raw_images_prop['image_size'] = raw_images_prop.progress_apply(lambda row: get_img_size(row['image_name']), axis=1)"
   ]
  },
  {
   "cell_type": "code",
   "execution_count": 24,
   "id": "first-volleyball",
   "metadata": {},
   "outputs": [
    {
     "data": {
      "text/html": [
       "<div>\n",
       "<style scoped>\n",
       "    .dataframe tbody tr th:only-of-type {\n",
       "        vertical-align: middle;\n",
       "    }\n",
       "\n",
       "    .dataframe tbody tr th {\n",
       "        vertical-align: top;\n",
       "    }\n",
       "\n",
       "    .dataframe thead th {\n",
       "        text-align: right;\n",
       "    }\n",
       "</style>\n",
       "<table border=\"1\" class=\"dataframe\">\n",
       "  <thead>\n",
       "    <tr style=\"text-align: right;\">\n",
       "      <th></th>\n",
       "      <th>Unnamed: 0</th>\n",
       "      <th>image_name</th>\n",
       "      <th>height</th>\n",
       "      <th>width</th>\n",
       "      <th>aspect_ratio</th>\n",
       "      <th>unique_id</th>\n",
       "      <th>image_size</th>\n",
       "    </tr>\n",
       "  </thead>\n",
       "  <tbody>\n",
       "    <tr>\n",
       "      <th>0</th>\n",
       "      <td>0</td>\n",
       "      <td>/media/data_dump/Shivangi/Mudit/dataset/raw_go...</td>\n",
       "      <td>3200</td>\n",
       "      <td>1808</td>\n",
       "      <td>0.565000</td>\n",
       "      <td>gossipcop-946696</td>\n",
       "      <td>609649</td>\n",
       "    </tr>\n",
       "    <tr>\n",
       "      <th>1</th>\n",
       "      <td>1</td>\n",
       "      <td>/media/data_dump/Shivangi/Mudit/dataset/raw_go...</td>\n",
       "      <td>660</td>\n",
       "      <td>373</td>\n",
       "      <td>0.565152</td>\n",
       "      <td>gossipcop-946696</td>\n",
       "      <td>26261</td>\n",
       "    </tr>\n",
       "    <tr>\n",
       "      <th>2</th>\n",
       "      <td>2</td>\n",
       "      <td>/media/data_dump/Shivangi/Mudit/dataset/raw_go...</td>\n",
       "      <td>20</td>\n",
       "      <td>11</td>\n",
       "      <td>0.550000</td>\n",
       "      <td>gossipcop-912908</td>\n",
       "      <td>10531</td>\n",
       "    </tr>\n",
       "    <tr>\n",
       "      <th>3</th>\n",
       "      <td>3</td>\n",
       "      <td>/media/data_dump/Shivangi/Mudit/dataset/raw_go...</td>\n",
       "      <td>164</td>\n",
       "      <td>164</td>\n",
       "      <td>1.000000</td>\n",
       "      <td>gossipcop-912908</td>\n",
       "      <td>176</td>\n",
       "    </tr>\n",
       "    <tr>\n",
       "      <th>4</th>\n",
       "      <td>4</td>\n",
       "      <td>/media/data_dump/Shivangi/Mudit/dataset/raw_go...</td>\n",
       "      <td>200</td>\n",
       "      <td>200</td>\n",
       "      <td>1.000000</td>\n",
       "      <td>gossipcop-912908</td>\n",
       "      <td>11409</td>\n",
       "    </tr>\n",
       "  </tbody>\n",
       "</table>\n",
       "</div>"
      ],
      "text/plain": [
       "   Unnamed: 0                                         image_name  height  \\\n",
       "0           0  /media/data_dump/Shivangi/Mudit/dataset/raw_go...    3200   \n",
       "1           1  /media/data_dump/Shivangi/Mudit/dataset/raw_go...     660   \n",
       "2           2  /media/data_dump/Shivangi/Mudit/dataset/raw_go...      20   \n",
       "3           3  /media/data_dump/Shivangi/Mudit/dataset/raw_go...     164   \n",
       "4           4  /media/data_dump/Shivangi/Mudit/dataset/raw_go...     200   \n",
       "\n",
       "   width  aspect_ratio         unique_id  image_size  \n",
       "0   1808      0.565000  gossipcop-946696      609649  \n",
       "1    373      0.565152  gossipcop-946696       26261  \n",
       "2     11      0.550000  gossipcop-912908       10531  \n",
       "3    164      1.000000  gossipcop-912908         176  \n",
       "4    200      1.000000  gossipcop-912908       11409  "
      ]
     },
     "execution_count": 24,
     "metadata": {},
     "output_type": "execute_result"
    }
   ],
   "source": [
    "raw_images_prop.to_csv(\"./image_properties_csv/raw_images_properties.csv\")\n",
    "raw_images_prop.head()"
   ]
  },
  {
   "cell_type": "code",
   "execution_count": null,
   "id": "editorial-central",
   "metadata": {},
   "outputs": [],
   "source": []
  },
  {
   "cell_type": "code",
   "execution_count": 16,
   "id": "demanding-hometown",
   "metadata": {},
   "outputs": [
    {
     "data": {
      "text/plain": [
       "15592"
      ]
     },
     "execution_count": 16,
     "metadata": {},
     "output_type": "execute_result"
    }
   ],
   "source": [
    "os.stat('/media/data_dump/Shivangi/Mudit/dataset/gossipcop/gossipcop_images/fake_gossipcop-3507938806_headshot-48513.jpg').st_size"
   ]
  },
  {
   "cell_type": "code",
   "execution_count": 17,
   "id": "fifteen-temperature",
   "metadata": {},
   "outputs": [
    {
     "data": {
      "text/plain": [
       "15592"
      ]
     },
     "execution_count": 17,
     "metadata": {},
     "output_type": "execute_result"
    }
   ],
   "source": [
    "os.path.getsize('/media/data_dump/Shivangi/Mudit/dataset/gossipcop/gossipcop_images/fake_gossipcop-3507938806_headshot-48513.jpg')"
   ]
  },
  {
   "cell_type": "code",
   "execution_count": null,
   "id": "accessible-release",
   "metadata": {},
   "outputs": [],
   "source": []
  },
  {
   "cell_type": "code",
   "execution_count": 8,
   "id": "atlantic-button",
   "metadata": {},
   "outputs": [],
   "source": [
    "df_merged = pd.merge(df_clean, df_raw, on=\"unique_id\")"
   ]
  },
  {
   "cell_type": "code",
   "execution_count": 9,
   "id": "metropolitan-slovenia",
   "metadata": {},
   "outputs": [
    {
     "data": {
      "text/plain": [
       "((3480, 11), (15193, 10), (2946, 20))"
      ]
     },
     "execution_count": 9,
     "metadata": {},
     "output_type": "execute_result"
    }
   ],
   "source": [
    "df_clean.shape, df_raw.shape, df_merged.shape"
   ]
  },
  {
   "cell_type": "code",
   "execution_count": 84,
   "id": "czech-craps",
   "metadata": {},
   "outputs": [],
   "source": [
    "df = pd.DataFrame(columns=['unique_id', 'M_dash', 'M'])\n",
    "df['unique_id'] = df_merged['unique_id']\n",
    "df['M'] = df_merged['im_list'] ## Raw\n",
    "df['M_dash'] = df_merged['images'] ## clean"
   ]
  },
  {
   "cell_type": "code",
   "execution_count": 85,
   "id": "orange-joseph",
   "metadata": {},
   "outputs": [],
   "source": [
    "def read_images(img_list, IMAGE_ROOT_DIR):\n",
    "\n",
    "    final_img_inp = [] ## Store multiple images \n",
    "\n",
    "    for img_name in img_list:\n",
    "        img = Path(IMAGE_ROOT_DIR) / img_name\n",
    "        try:\n",
    "            image = Image.open(img).convert(\"RGB\") ## Read the image\n",
    "        except Exception as e:\n",
    "            continue\n",
    "\n",
    "        final_img_inp.append(image)\n",
    "\n",
    "    return final_img_inp"
   ]
  },
  {
   "cell_type": "code",
   "execution_count": 67,
   "id": "fitted-general",
   "metadata": {},
   "outputs": [],
   "source": [
    "def create_group_column(M, M_dash):\n",
    "    overlap = 0\n",
    "    M = read_images(M.split(\";\"), IMAGE_ROOT_DIR_RAW)\n",
    "    not_present = []\n",
    "    M_minus_M_dash = []\n",
    "    for img_name in M_dash.strip(\"][\").split(\", \"):\n",
    "        img = Path(IMAGE_ROOT_DIR_CLEAN) / img_name[1:-1]\n",
    "        try:\n",
    "            image = Image.open(img).convert(\"RGB\") ## Read the image\n",
    "        except Exception as e:\n",
    "            continue\n",
    "        for img in M:\n",
    "            if np.all(np.array(image)==np.array(img)):\n",
    "                overlap += 1\n",
    "            else:\n",
    "                \n",
    "        \n",
    "    return overlap"
   ]
  },
  {
   "cell_type": "code",
   "execution_count": 68,
   "id": "lesbian-jonathan",
   "metadata": {},
   "outputs": [],
   "source": [
    "%matplotlib inline"
   ]
  },
  {
   "cell_type": "code",
   "execution_count": 69,
   "id": "quality-stomach",
   "metadata": {
    "scrolled": true
   },
   "outputs": [
    {
     "data": {
      "application/vnd.jupyter.widget-view+json": {
       "model_id": "55859dfe4d7c4b9f9f6964cd4f852ce6",
       "version_major": 2,
       "version_minor": 0
      },
      "text/plain": [
       "  0%|          | 0/2946 [00:00<?, ?it/s]"
      ]
     },
     "metadata": {},
     "output_type": "display_data"
    },
    {
     "name": "stderr",
     "output_type": "stream",
     "text": [
      "/home/shivangi/.conda/envs/fakenews/lib/python3.7/site-packages/ipykernel_launcher.py:14: DeprecationWarning: elementwise comparison failed; this will raise an error in the future.\n",
      "  \n",
      "/home/shivangi/.conda/envs/fakenews/lib/python3.7/site-packages/PIL/Image.py:963: UserWarning: Palette images with Transparency expressed in bytes should be converted to RGBA images\n",
      "  \"Palette images with Transparency expressed in bytes should be \"\n",
      "/home/shivangi/.conda/envs/fakenews/lib/python3.7/site-packages/PIL/TiffImagePlugin.py:793: UserWarning: Corrupt EXIF data.  Expecting to read 4 bytes but only got 0. \n",
      "  warnings.warn(str(msg))\n",
      "/home/shivangi/.conda/envs/fakenews/lib/python3.7/site-packages/PIL/Image.py:2957: UserWarning: image file could not be identified because WEBP support not installed\n",
      "  warnings.warn(message)\n"
     ]
    }
   ],
   "source": [
    "overlap = df.progress_apply(lambda row: create_group_column(row['M'], row['M_dash']), axis=1)"
   ]
  },
  {
   "cell_type": "code",
   "execution_count": 11,
   "id": "further-remainder",
   "metadata": {},
   "outputs": [],
   "source": [
    "import matplotlib.pyplot as plt"
   ]
  },
  {
   "cell_type": "code",
   "execution_count": 71,
   "id": "historic-memorabilia",
   "metadata": {
    "scrolled": true
   },
   "outputs": [
    {
     "data": {
      "image/png": "[encoded data removed]",
      "text/plain": [
       "<Figure size 432x288 with 1 Axes>"
      ]
     },
     "metadata": {
      "needs_background": "light"
     },
     "output_type": "display_data"
    }
   ],
   "source": [
    "plt.hist(overlap)\n",
    "plt.show()"
   ]
  },
  {
   "cell_type": "code",
   "execution_count": 72,
   "id": "egyptian-travel",
   "metadata": {},
   "outputs": [
    {
     "data": {
      "text/plain": [
       "(array([0, 1, 2, 3]), array([1591,  802,  443,  110]))"
      ]
     },
     "execution_count": 72,
     "metadata": {},
     "output_type": "execute_result"
    }
   ],
   "source": [
    "np.unique(np.array(overlap), return_counts=True)"
   ]
  },
  {
   "cell_type": "markdown",
   "id": "refined-germany",
   "metadata": {},
   "source": [
    "Didn't work"
   ]
  },
  {
   "cell_type": "code",
   "execution_count": 12,
   "id": "painful-branch",
   "metadata": {},
   "outputs": [],
   "source": [
    "from subprocess import run"
   ]
  },
  {
   "cell_type": "code",
   "execution_count": 28,
   "id": "amber-bacteria",
   "metadata": {},
   "outputs": [],
   "source": [
    "root_dir = \"/media/nas_mount/Shivangi/mudit/code/case_studies/\"\n",
    "# !pwd"
   ]
  },
  {
   "cell_type": "code",
   "execution_count": 75,
   "id": "instrumental-campus",
   "metadata": {},
   "outputs": [],
   "source": [
    "def read_images(img_list, IMAGE_ROOT_DIR):\n",
    "\n",
    "    final_img_inp = [] ## Store multiple images \n",
    "    cmd = [f'{root_dir}ThreatExchange/pdq/cpp/pdq-photo-hasher']\n",
    "    for img_name in img_list:\n",
    "        img = Path(IMAGE_ROOT_DIR) / img_name\n",
    "        try:\n",
    "            image = Image.open(img).convert(\"RGB\") ## Read the image\n",
    "            out = run(cmd+[str(img)], capture_output=True).stdout\n",
    "            final_img_inp.append(str(out).split(\",\")[0][2:])\n",
    "        except Exception as e:\n",
    "            continue\n",
    "    return final_img_inp"
   ]
  },
  {
   "cell_type": "code",
   "execution_count": 80,
   "id": "coupled-tablet",
   "metadata": {},
   "outputs": [],
   "source": [
    "def create_group_column(M, M_dash):\n",
    "    overlap = 0\n",
    "    M_hsh = read_images(M.split(\";\"), IMAGE_ROOT_DIR_RAW)\n",
    "    cmd = [f'{root_dir}ThreatExchange/pdq/cpp/pdq-photo-hasher']\n",
    "    not_present = []\n",
    "    M_minus_M_dash = []\n",
    "    for img_name in M_dash.strip(\"][\").split(\", \"):\n",
    "        img = Path(IMAGE_ROOT_DIR_CLEAN) / img_name[1:-1]\n",
    "        try:\n",
    "            image = Image.open(img).convert(\"RGB\") ## Read the image\n",
    "            out = run(cmd+[str(img)], capture_output=True).stdout\n",
    "#             print(type(out))\n",
    "            out = str(out).split(\",\")[0]\n",
    "#             print(out)\n",
    "        except Exception as e:\n",
    "            print(str(e))\n",
    "            continue\n",
    "#         print(M_hsh)\n",
    "        if out in M_hsh:\n",
    "            overlap +=1\n",
    "    \n",
    "    return overlap"
   ]
  },
  {
   "cell_type": "code",
   "execution_count": 81,
   "id": "handmade-galaxy",
   "metadata": {},
   "outputs": [
    {
     "data": {
      "application/vnd.jupyter.widget-view+json": {
       "model_id": "d39364f441364e5ea23a903880bce7f7",
       "version_major": 2,
       "version_minor": 0
      },
      "text/plain": [
       "  0%|          | 0/2946 [00:00<?, ?it/s]"
      ]
     },
     "metadata": {},
     "output_type": "display_data"
    },
    {
     "name": "stderr",
     "output_type": "stream",
     "text": [
      "/home/shivangi/.conda/envs/fakenews/lib/python3.7/site-packages/PIL/Image.py:963: UserWarning: Palette images with Transparency expressed in bytes should be converted to RGBA images\n",
      "  \"Palette images with Transparency expressed in bytes should be \"\n",
      "/home/shivangi/.conda/envs/fakenews/lib/python3.7/site-packages/PIL/TiffImagePlugin.py:793: UserWarning: Corrupt EXIF data.  Expecting to read 4 bytes but only got 0. \n",
      "  warnings.warn(str(msg))\n"
     ]
    },
    {
     "name": "stdout",
     "output_type": "stream",
     "text": [
      "[Errno 2] No such file or directory: '/media/data_dump/Shivangi/Mudit/dataset/gossipcop/gossipcop_images/fake_gossipcop-1603411545_2148114-cartoonthfebruary-1581355595-282-160x120.jpg'\n"
     ]
    },
    {
     "name": "stderr",
     "output_type": "stream",
     "text": [
      "/home/shivangi/.conda/envs/fakenews/lib/python3.7/site-packages/PIL/Image.py:2957: UserWarning: image file could not be identified because WEBP support not installed\n",
      "  warnings.warn(message)\n"
     ]
    },
    {
     "name": "stdout",
     "output_type": "stream",
     "text": [
      "[Errno 2] No such file or directory: '/media/data_dump/Shivangi/Mudit/dataset/gossipcop/gossipcop_images/fake_gossipcop-764773843_1533140472_6a0577fe75a8801686518f55e1d2f091.jpg'\n",
      "[Errno 2] No such file or directory: '/media/data_dump/Shivangi/Mudit/dataset/gossipcop/gossipcop_images/fake_gossipcop-2301664029_2148114-cartoonthfebruary-1581355595-282-160x120.jpg'\n"
     ]
    }
   ],
   "source": [
    "overlap = df.progress_apply(lambda row: create_group_column(row['M'], row['M_dash']), axis=1)"
   ]
  },
  {
   "cell_type": "code",
   "execution_count": 83,
   "id": "frequent-print",
   "metadata": {},
   "outputs": [
    {
     "data": {
      "text/plain": [
       "(array([0]), array([2946]))"
      ]
     },
     "execution_count": 83,
     "metadata": {},
     "output_type": "execute_result"
    }
   ],
   "source": [
    "np.unique(np.array(overlap), return_counts=True)"
   ]
  },
  {
   "cell_type": "code",
   "execution_count": 46,
   "id": "dominican-chicago",
   "metadata": {},
   "outputs": [],
   "source": [
    "command_hasher= f'{root_dir}ThreatExchange/pdq/cpp/pdq-photo-hasher /media/data_dump/Shivangi/Mudit/dataset/gossipcop/gossipcop_images/fake_gossipcop-7120665185_edfc9db90cd6588e985fbf3bbb4d7529_xl.jpg'"
   ]
  },
  {
   "cell_type": "code",
   "execution_count": 69,
   "id": "contemporary-barrel",
   "metadata": {},
   "outputs": [],
   "source": [
    "output = run(cmd, capture_output=True).stdout"
   ]
  },
  {
   "cell_type": "code",
   "execution_count": 70,
   "id": "exotic-implementation",
   "metadata": {},
   "outputs": [
    {
     "data": {
      "text/plain": [
       "b'267f2f73b17f5d082e818df1da010d95837f26db1325b4792b629293a90d734c,100,/media/data_dump/Shivangi/Mudit/dataset/gossipcop/gossipcop_images/fake_gossipcop-7305394933_gettyimages-162611431.jpg\\n'"
      ]
     },
     "execution_count": 70,
     "metadata": {},
     "output_type": "execute_result"
    }
   ],
   "source": [
    "output"
   ]
  },
  {
   "cell_type": "code",
   "execution_count": 73,
   "id": "touched-death",
   "metadata": {},
   "outputs": [
    {
     "data": {
      "text/plain": [
       "\"b'267f2f73b17f5d082e818df1da010d95837f26db1325b4792b629293a90d734c,100,/media/data_dump/Shivangi/Mudit/dataset/gossipcop/gossipcop_images/fake_gossipcop-7305394933_gettyimages-162611431.jpg\\\\n'\""
      ]
     },
     "execution_count": 73,
     "metadata": {},
     "output_type": "execute_result"
    }
   ],
   "source": [
    "str(output)"
   ]
  },
  {
   "cell_type": "code",
   "execution_count": 48,
   "id": "reduced-transformation",
   "metadata": {},
   "outputs": [],
   "source": [
    "import subprocess"
   ]
  },
  {
   "cell_type": "code",
   "execution_count": 50,
   "id": "artistic-congo",
   "metadata": {},
   "outputs": [],
   "source": [
    "cmd = [f'{root_dir}ThreatExchange/pdq/cpp/pdq-photo-hasher', '/media/data_dump/Shivangi/Mudit/dataset/gossipcop/gossipcop_images/fake_gossipcop-7305394933_gettyimages-162611431.jpg']"
   ]
  },
  {
   "cell_type": "code",
   "execution_count": 51,
   "id": "pleased-ecuador",
   "metadata": {},
   "outputs": [
    {
     "data": {
      "text/plain": [
       "b'267f2f73b17f5d082e818df1da010d95837f26db1325b4792b629293a90d734c,100,/media/data_dump/Shivangi/Mudit/dataset/gossipcop/gossipcop_images/fake_gossipcop-7305394933_gettyimages-162611431.jpg\\n'"
      ]
     },
     "execution_count": 51,
     "metadata": {},
     "output_type": "execute_result"
    }
   ],
   "source": [
    "subprocess.Popen(cmd, stdout=subprocess.PIPE ).communicate()[0]"
   ]
  },
  {
   "cell_type": "code",
   "execution_count": null,
   "id": "spatial-secretary",
   "metadata": {},
   "outputs": [],
   "source": []
  }
 ],
 "metadata": {
  "kernelspec": {
   "display_name": "Python 3",
   "language": "python",
   "name": "python3"
  },
  "language_info": {
   "codemirror_mode": {
    "name": "ipython",
    "version": 3
   },
   "file_extension": ".py",
   "mimetype": "text/x-python",
   "name": "python",
   "nbconvert_exporter": "python",
   "pygments_lexer": "ipython3",
   "version": "3.7.9"
  }
 },
 "nbformat": 4,
 "nbformat_minor": 5
}
