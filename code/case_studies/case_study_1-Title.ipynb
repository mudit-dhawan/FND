{
 "cells": [
  {
   "cell_type": "code",
   "execution_count": 1,
   "id": "naked-satellite",
   "metadata": {},
   "outputs": [],
   "source": [
    "import os \n",
    "os.environ[\"CUDA_DEVICE_ORDER\"]=\"PCI_BUS_ID\" \n",
    "os.environ[\"CUDA_VISIBLE_DEVICES\"]=\"1,3,6,7\""
   ]
  },
  {
   "cell_type": "code",
   "execution_count": 2,
   "id": "adjusted-quebec",
   "metadata": {},
   "outputs": [],
   "source": [
    "import sys\n",
    "import torch\n",
    "import pandas as pd\n",
    "import numpy as np\n",
    "import random \n",
    "from torch.utils.data import DataLoader\n",
    "import torch.nn as nn\n",
    "import misc_title"
   ]
  },
  {
   "cell_type": "code",
   "execution_count": 3,
   "id": "amateur-desktop",
   "metadata": {},
   "outputs": [],
   "source": [
    "from sklearn.manifold import TSNE\n",
    "import matplotlib.pyplot as plt\n",
    "import seaborn as sns\n",
    "import plotly.express as px"
   ]
  },
  {
   "cell_type": "code",
   "execution_count": 4,
   "id": "ready-ecology",
   "metadata": {},
   "outputs": [],
   "source": [
    "sys.path.insert(0,'../src_title/')\n",
    "import config, dataset, model, engine, utils, model_parameters"
   ]
  },
  {
   "cell_type": "code",
   "execution_count": 5,
   "id": "chinese-cooperative",
   "metadata": {},
   "outputs": [],
   "source": [
    "def set_seed(seed_value=42):\n",
    "    \"\"\"Set seed for reproducibility.\n",
    "    \"\"\"\n",
    "    random.seed(seed_value)\n",
    "    np.random.seed(seed_value)\n",
    "    torch.manual_seed(seed_value)\n",
    "    torch.cuda.manual_seed_all(seed_value)\n",
    "    \n",
    "set_seed(7) "
   ]
  },
  {
   "cell_type": "code",
   "execution_count": 6,
   "id": "native-vehicle",
   "metadata": {},
   "outputs": [],
   "source": [
    "df_train, df_test = utils.split_data() ## Read the data "
   ]
  },
  {
   "cell_type": "code",
   "execution_count": 7,
   "id": "horizontal-moscow",
   "metadata": {},
   "outputs": [],
   "source": [
    "## Create the data Loaders\n",
    "\n",
    "train_dataset = dataset.FakeNewsDataset(df_train)\n",
    "\n",
    "## using padding\n",
    "train_data_loader = DataLoader(train_dataset, batch_size=1,\n",
    "                        shuffle=True, collate_fn=dataset.MyCollate())\n",
    "\n",
    "\n",
    "\n",
    "val_dataset = dataset.FakeNewsDataset(df_test)\n",
    "\n",
    "## using padding\n",
    "val_data_loader = DataLoader(val_dataset, batch_size=config.EVAL_BATCH_SIZE,\n",
    "                        shuffle=True, collate_fn=dataset.MyCollate())"
   ]
  },
  {
   "cell_type": "code",
   "execution_count": 9,
   "id": "western-tobago",
   "metadata": {},
   "outputs": [],
   "source": [
    "## to get component wise loss\n",
    "def sim_loss(x, y):\n",
    "    \n",
    "    ## Create centroid (mean along dim=1 as x=(batch, nb_components, mulimodal_space_dim))\n",
    "    centroid = torch.mean(x, dim=1, keepdim=True)\n",
    "\n",
    "    centroid = centroid.repeat(1, x.size(1), 1)\n",
    "\n",
    "    y = y.unsqueeze(1).repeat(1, x.size(1))\n",
    "\n",
    "    batch_size = x.shape[0]\n",
    "\n",
    "    # Squash samples and timesteps into a single axis\n",
    "    x_reshape = x.contiguous().view(-1, x.size(-1))  # (b_s * num_components, latent_dim)\n",
    "\n",
    "    centroid_reshape = centroid.contiguous().view(-1, centroid.size(-1))  # (b_s * num_components, latent_dim)\n",
    "    \n",
    "    ## Calculate distance of each component from the centroid\n",
    "    dist_mat = config.PDIST(x_reshape, centroid_reshape).view(batch_size, -1)\n",
    "\n",
    "    total_loss = torch.mean(dist_mat, dim=1)\n",
    "\n",
    "    return total_loss "
   ]
  },
  {
   "cell_type": "code",
   "execution_count": 10,
   "id": "vulnerable-gender",
   "metadata": {},
   "outputs": [],
   "source": [
    "EXP_NAME = \"cleaned_GC_padding_title_exp2_saved\"\n",
    "MODEL_PATH = f'/media/nas_mount/Shivangi/mudit/log/saved_model/{EXP_NAME}.pt'"
   ]
  },
  {
   "cell_type": "markdown",
   "id": "essential-apartment",
   "metadata": {},
   "source": [
    "## Either run the model again or read csv file "
   ]
  },
  {
   "cell_type": "code",
   "execution_count": 8,
   "id": "complicated-sarah",
   "metadata": {},
   "outputs": [
    {
     "name": "stdout",
     "output_type": "stream",
     "text": [
      "Using 4 GPUs\n"
     ]
    },
    {
     "name": "stderr",
     "output_type": "stream",
     "text": [
      "/home/shivangi/.conda/envs/fakenews/lib/python3.7/site-packages/torch/nn/parallel/data_parallel.py:30: UserWarning: \n",
      "    There is an imbalance between your GPUs. You may want to exclude GPU 0 which\n",
      "    has less than 75% of the memory or cores of GPU 3. You can do so by setting\n",
      "    the device_ids argument to DataParallel, or by setting the CUDA_VISIBLE_DEVICES\n",
      "    environment variable.\n",
      "  warnings.warn(imbalance_warn.format(device_ids[min_pos], device_ids[max_pos]))\n"
     ]
    }
   ],
   "source": [
    "## Set the device and initialize the model\n",
    "\n",
    "device = torch.device(\"cuda:0\" if torch.cuda.is_available() else \"cpu\")\n",
    "\n",
    "model = model.Multiple_Images_Model()\n",
    "\n",
    "if torch.cuda.device_count() > 1:\n",
    "    print(\"Using\", torch.cuda.device_count(), \"GPUs\")\n",
    "    model = nn.DataParallel(model)\n",
    "\n",
    "model = model.to(device)"
   ]
  },
  {
   "cell_type": "code",
   "execution_count": 11,
   "id": "varied-recall",
   "metadata": {},
   "outputs": [],
   "source": [
    "loaded_state_dict = torch.load(MODEL_PATH,  map_location=device)"
   ]
  },
  {
   "cell_type": "code",
   "execution_count": 12,
   "id": "registered-mailman",
   "metadata": {},
   "outputs": [
    {
     "data": {
      "text/plain": [
       "<All keys matched successfully>"
      ]
     },
     "execution_count": 12,
     "metadata": {},
     "output_type": "execute_result"
    }
   ],
   "source": [
    "model.load_state_dict(loaded_state_dict)"
   ]
  },
  {
   "cell_type": "code",
   "execution_count": 13,
   "id": "creative-audience",
   "metadata": {
    "scrolled": true
   },
   "outputs": [
    {
     "name": "stderr",
     "output_type": "stream",
     "text": [
      " 13%|█▎        | 351/2798 [01:23<08:41,  4.70it/s]/home/shivangi/.conda/envs/fakenews/lib/python3.7/site-packages/PIL/Image.py:963: UserWarning: Palette images with Transparency expressed in bytes should be converted to RGBA images\n",
      "  \"Palette images with Transparency expressed in bytes should be \"\n",
      "100%|██████████| 2798/2798 [11:05<00:00,  4.20it/s]\n"
     ]
    }
   ],
   "source": [
    "df_space, df_mean = misc_title.create_multimodal_space_df(model_parameters.MULTIMODAL_SPACE_DIM)\n",
    "df_space, df_mean = misc_title.create_space(df_space, df_mean, model, train_data_loader, sim_loss, device)"
   ]
  },
  {
   "cell_type": "markdown",
   "id": "dated-estimate",
   "metadata": {},
   "source": [
    "## Read the precomputed vectors "
   ]
  },
  {
   "cell_type": "code",
   "execution_count": 14,
   "id": "curious-conservative",
   "metadata": {},
   "outputs": [],
   "source": [
    "# df_mean.to_csv(f'./{EXP_NAME}_df_mean.csv')\n",
    "# df_space.to_csv(f'./{EXP_NAME}_df_space.csv')\n",
    "df_mean = pd.read_csv(f'./{EXP_NAME}_df_mean.csv')\n",
    "df_space = pd.read_csv(f'./{EXP_NAME}_df_space.csv')"
   ]
  },
  {
   "cell_type": "markdown",
   "id": "electoral-format",
   "metadata": {},
   "source": [
    "## RQ"
   ]
  },
  {
   "cell_type": "code",
   "execution_count": 15,
   "id": "smoking-butter",
   "metadata": {},
   "outputs": [
    {
     "data": {
      "text/html": [
       "<div>\n",
       "<style scoped>\n",
       "    .dataframe tbody tr th:only-of-type {\n",
       "        vertical-align: middle;\n",
       "    }\n",
       "\n",
       "    .dataframe tbody tr th {\n",
       "        vertical-align: top;\n",
       "    }\n",
       "\n",
       "    .dataframe thead th {\n",
       "        text-align: right;\n",
       "    }\n",
       "</style>\n",
       "<table border=\"1\" class=\"dataframe\">\n",
       "  <thead>\n",
       "    <tr style=\"text-align: right;\">\n",
       "      <th></th>\n",
       "      <th>col_1</th>\n",
       "      <th>col_2</th>\n",
       "      <th>col_3</th>\n",
       "      <th>col_4</th>\n",
       "      <th>col_5</th>\n",
       "      <th>col_6</th>\n",
       "      <th>col_7</th>\n",
       "      <th>col_8</th>\n",
       "      <th>col_9</th>\n",
       "      <th>col_10</th>\n",
       "      <th>...</th>\n",
       "      <th>col_121</th>\n",
       "      <th>col_122</th>\n",
       "      <th>col_123</th>\n",
       "      <th>col_124</th>\n",
       "      <th>col_125</th>\n",
       "      <th>col_126</th>\n",
       "      <th>col_127</th>\n",
       "      <th>col_128</th>\n",
       "      <th>cluster_dist</th>\n",
       "      <th>label</th>\n",
       "    </tr>\n",
       "  </thead>\n",
       "  <tbody>\n",
       "    <tr>\n",
       "      <th>0</th>\n",
       "      <td>0.493291</td>\n",
       "      <td>-0.493362</td>\n",
       "      <td>-0.494764</td>\n",
       "      <td>-0.498001</td>\n",
       "      <td>-0.490539</td>\n",
       "      <td>0.498433</td>\n",
       "      <td>0.497630</td>\n",
       "      <td>0.498696</td>\n",
       "      <td>0.492404</td>\n",
       "      <td>0.499456</td>\n",
       "      <td>...</td>\n",
       "      <td>-0.489237</td>\n",
       "      <td>0.490467</td>\n",
       "      <td>0.496391</td>\n",
       "      <td>-0.490254</td>\n",
       "      <td>-0.496081</td>\n",
       "      <td>0.485162</td>\n",
       "      <td>-0.499207</td>\n",
       "      <td>0.493585</td>\n",
       "      <td>0.844257</td>\n",
       "      <td>1.0</td>\n",
       "    </tr>\n",
       "    <tr>\n",
       "      <th>1</th>\n",
       "      <td>0.493062</td>\n",
       "      <td>-0.491021</td>\n",
       "      <td>-0.494396</td>\n",
       "      <td>-0.490890</td>\n",
       "      <td>-0.496960</td>\n",
       "      <td>0.454738</td>\n",
       "      <td>0.473202</td>\n",
       "      <td>0.490439</td>\n",
       "      <td>0.477056</td>\n",
       "      <td>0.489277</td>\n",
       "      <td>...</td>\n",
       "      <td>-0.495543</td>\n",
       "      <td>0.479488</td>\n",
       "      <td>0.491666</td>\n",
       "      <td>-0.459914</td>\n",
       "      <td>-0.465118</td>\n",
       "      <td>0.499886</td>\n",
       "      <td>-0.468757</td>\n",
       "      <td>0.498032</td>\n",
       "      <td>1.538713</td>\n",
       "      <td>1.0</td>\n",
       "    </tr>\n",
       "    <tr>\n",
       "      <th>2</th>\n",
       "      <td>0.574186</td>\n",
       "      <td>-0.573332</td>\n",
       "      <td>-0.575694</td>\n",
       "      <td>-0.571387</td>\n",
       "      <td>-0.546984</td>\n",
       "      <td>0.529135</td>\n",
       "      <td>0.574580</td>\n",
       "      <td>0.569928</td>\n",
       "      <td>0.551385</td>\n",
       "      <td>0.577279</td>\n",
       "      <td>...</td>\n",
       "      <td>-0.551223</td>\n",
       "      <td>0.574398</td>\n",
       "      <td>0.577078</td>\n",
       "      <td>-0.570773</td>\n",
       "      <td>-0.562306</td>\n",
       "      <td>0.540707</td>\n",
       "      <td>-0.566151</td>\n",
       "      <td>0.569434</td>\n",
       "      <td>1.383575</td>\n",
       "      <td>1.0</td>\n",
       "    </tr>\n",
       "    <tr>\n",
       "      <th>3</th>\n",
       "      <td>0.499504</td>\n",
       "      <td>-0.490047</td>\n",
       "      <td>-0.488239</td>\n",
       "      <td>-0.486481</td>\n",
       "      <td>-0.492733</td>\n",
       "      <td>0.448529</td>\n",
       "      <td>0.493483</td>\n",
       "      <td>0.476468</td>\n",
       "      <td>0.455538</td>\n",
       "      <td>0.492540</td>\n",
       "      <td>...</td>\n",
       "      <td>-0.495376</td>\n",
       "      <td>0.491194</td>\n",
       "      <td>0.494277</td>\n",
       "      <td>-0.449381</td>\n",
       "      <td>-0.471955</td>\n",
       "      <td>0.495524</td>\n",
       "      <td>-0.458139</td>\n",
       "      <td>0.491732</td>\n",
       "      <td>1.515467</td>\n",
       "      <td>1.0</td>\n",
       "    </tr>\n",
       "    <tr>\n",
       "      <th>4</th>\n",
       "      <td>0.574046</td>\n",
       "      <td>-0.574816</td>\n",
       "      <td>-0.575667</td>\n",
       "      <td>-0.572623</td>\n",
       "      <td>-0.577175</td>\n",
       "      <td>0.576202</td>\n",
       "      <td>0.564641</td>\n",
       "      <td>0.565804</td>\n",
       "      <td>0.567391</td>\n",
       "      <td>0.576080</td>\n",
       "      <td>...</td>\n",
       "      <td>-0.575939</td>\n",
       "      <td>0.576350</td>\n",
       "      <td>0.575770</td>\n",
       "      <td>-0.574531</td>\n",
       "      <td>-0.569145</td>\n",
       "      <td>0.564645</td>\n",
       "      <td>-0.575086</td>\n",
       "      <td>0.569040</td>\n",
       "      <td>0.777662</td>\n",
       "      <td>0.0</td>\n",
       "    </tr>\n",
       "  </tbody>\n",
       "</table>\n",
       "<p>5 rows × 130 columns</p>\n",
       "</div>"
      ],
      "text/plain": [
       "      col_1     col_2     col_3     col_4     col_5     col_6     col_7  \\\n",
       "0  0.493291 -0.493362 -0.494764 -0.498001 -0.490539  0.498433  0.497630   \n",
       "1  0.493062 -0.491021 -0.494396 -0.490890 -0.496960  0.454738  0.473202   \n",
       "2  0.574186 -0.573332 -0.575694 -0.571387 -0.546984  0.529135  0.574580   \n",
       "3  0.499504 -0.490047 -0.488239 -0.486481 -0.492733  0.448529  0.493483   \n",
       "4  0.574046 -0.574816 -0.575667 -0.572623 -0.577175  0.576202  0.564641   \n",
       "\n",
       "      col_8     col_9    col_10  ...   col_121   col_122   col_123   col_124  \\\n",
       "0  0.498696  0.492404  0.499456  ... -0.489237  0.490467  0.496391 -0.490254   \n",
       "1  0.490439  0.477056  0.489277  ... -0.495543  0.479488  0.491666 -0.459914   \n",
       "2  0.569928  0.551385  0.577279  ... -0.551223  0.574398  0.577078 -0.570773   \n",
       "3  0.476468  0.455538  0.492540  ... -0.495376  0.491194  0.494277 -0.449381   \n",
       "4  0.565804  0.567391  0.576080  ... -0.575939  0.576350  0.575770 -0.574531   \n",
       "\n",
       "    col_125   col_126   col_127   col_128  cluster_dist  label  \n",
       "0 -0.496081  0.485162 -0.499207  0.493585      0.844257    1.0  \n",
       "1 -0.465118  0.499886 -0.468757  0.498032      1.538713    1.0  \n",
       "2 -0.562306  0.540707 -0.566151  0.569434      1.383575    1.0  \n",
       "3 -0.471955  0.495524 -0.458139  0.491732      1.515467    1.0  \n",
       "4 -0.569145  0.564645 -0.575086  0.569040      0.777662    0.0  \n",
       "\n",
       "[5 rows x 130 columns]"
      ]
     },
     "execution_count": 15,
     "metadata": {},
     "output_type": "execute_result"
    }
   ],
   "source": [
    "df_mean.head()"
   ]
  },
  {
   "cell_type": "code",
   "execution_count": 16,
   "id": "buried-motel",
   "metadata": {},
   "outputs": [
    {
     "data": {
      "text/plain": [
       "<seaborn.axisgrid.FacetGrid at 0x7f7d3a6b0310>"
      ]
     },
     "execution_count": 16,
     "metadata": {},
     "output_type": "execute_result"
    },
    {
     "data": {
      "image/png": "[encoded data removed]",
      "text/plain": [
       "<Figure size 411.875x360 with 1 Axes>"
      ]
     },
     "metadata": {
      "needs_background": "light"
     },
     "output_type": "display_data"
    }
   ],
   "source": [
    "sns.displot(data=df_mean, x=\"cluster_dist\", hue=\"label\",kde=True)"
   ]
  },
  {
   "cell_type": "markdown",
   "id": "positive-interpretation",
   "metadata": {},
   "source": [
    "## RQ"
   ]
  },
  {
   "cell_type": "code",
   "execution_count": 17,
   "id": "weekly-powder",
   "metadata": {},
   "outputs": [],
   "source": [
    "## Prepare input as the multimodal vectors for t-SNE plots and further analysis\n",
    "X = df_mean[['col_'+str(i) for i in range(1,model_parameters.MULTIMODAL_SPACE_DIM+1)]].to_numpy()\n",
    "Y_hue = df_mean['label'].to_numpy()\n",
    "clust_size = df_mean['cluster_dist'].to_numpy()\n",
    "nb_components = 2"
   ]
  },
  {
   "cell_type": "code",
   "execution_count": 18,
   "id": "hybrid-conservative",
   "metadata": {},
   "outputs": [],
   "source": [
    "# X_2d = misc_title.plot_bubbles(X, clust_size, Y_hue, nb_components)"
   ]
  },
  {
   "cell_type": "markdown",
   "id": "stupid-grant",
   "metadata": {},
   "source": [
    "## RQ "
   ]
  },
  {
   "cell_type": "code",
   "execution_count": 82,
   "id": "voluntary-assessment",
   "metadata": {},
   "outputs": [
    {
     "data": {
      "application/vnd.jupyter.widget-view+json": {
       "model_id": "c0df83665a9940d5a88d7cc676feba94",
       "version_major": 2,
       "version_minor": 0
      },
      "text/plain": [
       "  0%|          | 0/2798 [00:00<?, ?it/s]"
      ]
     },
     "metadata": {},
     "output_type": "display_data"
    }
   ],
   "source": [
    "df_dist = misc_title.create_dist_df(df_space, df_mean, model_parameters.MULTIMODAL_SPACE_DIM)"
   ]
  },
  {
   "cell_type": "code",
   "execution_count": 64,
   "id": "interim-compromise",
   "metadata": {},
   "outputs": [
    {
     "data": {
      "text/html": [
       "<div>\n",
       "<style scoped>\n",
       "    .dataframe tbody tr th:only-of-type {\n",
       "        vertical-align: middle;\n",
       "    }\n",
       "\n",
       "    .dataframe tbody tr th {\n",
       "        vertical-align: top;\n",
       "    }\n",
       "\n",
       "    .dataframe thead th {\n",
       "        text-align: right;\n",
       "    }\n",
       "</style>\n",
       "<table border=\"1\" class=\"dataframe\">\n",
       "  <thead>\n",
       "    <tr style=\"text-align: right;\">\n",
       "      <th></th>\n",
       "      <th>title_text</th>\n",
       "      <th>text_img1</th>\n",
       "      <th>text_img2</th>\n",
       "      <th>text_img3</th>\n",
       "      <th>title_img1</th>\n",
       "      <th>title_img2</th>\n",
       "      <th>title_img3</th>\n",
       "      <th>nb_imgs</th>\n",
       "      <th>label</th>\n",
       "    </tr>\n",
       "  </thead>\n",
       "  <tbody>\n",
       "    <tr>\n",
       "      <th>0</th>\n",
       "      <td>1.618769</td>\n",
       "      <td>1.927510</td>\n",
       "      <td>1.734870</td>\n",
       "      <td>NaN</td>\n",
       "      <td>1.126650</td>\n",
       "      <td>1.000606</td>\n",
       "      <td>NaN</td>\n",
       "      <td>3</td>\n",
       "      <td>1.0</td>\n",
       "    </tr>\n",
       "    <tr>\n",
       "      <th>1</th>\n",
       "      <td>0.967602</td>\n",
       "      <td>2.867944</td>\n",
       "      <td>3.126667</td>\n",
       "      <td>NaN</td>\n",
       "      <td>2.809051</td>\n",
       "      <td>3.074674</td>\n",
       "      <td>NaN</td>\n",
       "      <td>3</td>\n",
       "      <td>1.0</td>\n",
       "    </tr>\n",
       "    <tr>\n",
       "      <th>2</th>\n",
       "      <td>1.451488</td>\n",
       "      <td>2.884947</td>\n",
       "      <td>NaN</td>\n",
       "      <td>NaN</td>\n",
       "      <td>2.771079</td>\n",
       "      <td>NaN</td>\n",
       "      <td>NaN</td>\n",
       "      <td>2</td>\n",
       "      <td>1.0</td>\n",
       "    </tr>\n",
       "    <tr>\n",
       "      <th>3</th>\n",
       "      <td>1.044817</td>\n",
       "      <td>2.899961</td>\n",
       "      <td>2.904413</td>\n",
       "      <td>NaN</td>\n",
       "      <td>2.995410</td>\n",
       "      <td>2.927176</td>\n",
       "      <td>NaN</td>\n",
       "      <td>3</td>\n",
       "      <td>1.0</td>\n",
       "    </tr>\n",
       "    <tr>\n",
       "      <th>5</th>\n",
       "      <td>1.496473</td>\n",
       "      <td>2.776471</td>\n",
       "      <td>NaN</td>\n",
       "      <td>NaN</td>\n",
       "      <td>2.963411</td>\n",
       "      <td>NaN</td>\n",
       "      <td>NaN</td>\n",
       "      <td>2</td>\n",
       "      <td>1.0</td>\n",
       "    </tr>\n",
       "    <tr>\n",
       "      <th>...</th>\n",
       "      <td>...</td>\n",
       "      <td>...</td>\n",
       "      <td>...</td>\n",
       "      <td>...</td>\n",
       "      <td>...</td>\n",
       "      <td>...</td>\n",
       "      <td>...</td>\n",
       "      <td>...</td>\n",
       "      <td>...</td>\n",
       "    </tr>\n",
       "    <tr>\n",
       "      <th>2792</th>\n",
       "      <td>0.753556</td>\n",
       "      <td>3.728859</td>\n",
       "      <td>4.202384</td>\n",
       "      <td>NaN</td>\n",
       "      <td>3.552807</td>\n",
       "      <td>4.025313</td>\n",
       "      <td>NaN</td>\n",
       "      <td>3</td>\n",
       "      <td>1.0</td>\n",
       "    </tr>\n",
       "    <tr>\n",
       "      <th>2794</th>\n",
       "      <td>2.047372</td>\n",
       "      <td>0.931112</td>\n",
       "      <td>0.832178</td>\n",
       "      <td>0.846115</td>\n",
       "      <td>2.122123</td>\n",
       "      <td>2.075564</td>\n",
       "      <td>2.089515</td>\n",
       "      <td>4</td>\n",
       "      <td>1.0</td>\n",
       "    </tr>\n",
       "    <tr>\n",
       "      <th>2795</th>\n",
       "      <td>1.108701</td>\n",
       "      <td>3.045407</td>\n",
       "      <td>NaN</td>\n",
       "      <td>NaN</td>\n",
       "      <td>3.099255</td>\n",
       "      <td>NaN</td>\n",
       "      <td>NaN</td>\n",
       "      <td>2</td>\n",
       "      <td>1.0</td>\n",
       "    </tr>\n",
       "    <tr>\n",
       "      <th>2796</th>\n",
       "      <td>1.652872</td>\n",
       "      <td>2.863983</td>\n",
       "      <td>NaN</td>\n",
       "      <td>NaN</td>\n",
       "      <td>2.466631</td>\n",
       "      <td>NaN</td>\n",
       "      <td>NaN</td>\n",
       "      <td>2</td>\n",
       "      <td>1.0</td>\n",
       "    </tr>\n",
       "    <tr>\n",
       "      <th>2797</th>\n",
       "      <td>0.938826</td>\n",
       "      <td>2.164027</td>\n",
       "      <td>1.989288</td>\n",
       "      <td>2.139320</td>\n",
       "      <td>2.195805</td>\n",
       "      <td>1.999874</td>\n",
       "      <td>2.201762</td>\n",
       "      <td>4</td>\n",
       "      <td>1.0</td>\n",
       "    </tr>\n",
       "  </tbody>\n",
       "</table>\n",
       "<p>2040 rows × 9 columns</p>\n",
       "</div>"
      ],
      "text/plain": [
       "      title_text  text_img1  text_img2  text_img3  title_img1  title_img2  \\\n",
       "0       1.618769   1.927510   1.734870        NaN    1.126650    1.000606   \n",
       "1       0.967602   2.867944   3.126667        NaN    2.809051    3.074674   \n",
       "2       1.451488   2.884947        NaN        NaN    2.771079         NaN   \n",
       "3       1.044817   2.899961   2.904413        NaN    2.995410    2.927176   \n",
       "5       1.496473   2.776471        NaN        NaN    2.963411         NaN   \n",
       "...          ...        ...        ...        ...         ...         ...   \n",
       "2792    0.753556   3.728859   4.202384        NaN    3.552807    4.025313   \n",
       "2794    2.047372   0.931112   0.832178   0.846115    2.122123    2.075564   \n",
       "2795    1.108701   3.045407        NaN        NaN    3.099255         NaN   \n",
       "2796    1.652872   2.863983        NaN        NaN    2.466631         NaN   \n",
       "2797    0.938826   2.164027   1.989288   2.139320    2.195805    1.999874   \n",
       "\n",
       "      title_img3  nb_imgs  label  \n",
       "0            NaN        3    1.0  \n",
       "1            NaN        3    1.0  \n",
       "2            NaN        2    1.0  \n",
       "3            NaN        3    1.0  \n",
       "5            NaN        2    1.0  \n",
       "...          ...      ...    ...  \n",
       "2792         NaN        3    1.0  \n",
       "2794    2.089515        4    1.0  \n",
       "2795         NaN        2    1.0  \n",
       "2796         NaN        2    1.0  \n",
       "2797    2.201762        4    1.0  \n",
       "\n",
       "[2040 rows x 9 columns]"
      ]
     },
     "execution_count": 64,
     "metadata": {},
     "output_type": "execute_result"
    }
   ],
   "source": [
    "df_dist[df_dist['label']==1]"
   ]
  },
  {
   "cell_type": "markdown",
   "id": "tender-palestine",
   "metadata": {},
   "source": [
    "## Store distance between each component separately for Real and Fake samples "
   ]
  },
  {
   "cell_type": "markdown",
   "id": "lesbian-bermuda",
   "metadata": {},
   "source": [
    "a_b_<t/f> : distance between a and b for t:Real or f: Fake samples\n",
    "\n",
    "im1 - Image 1 / Top image\n",
    "\n",
    "ims - other images (non-first)\n",
    "\n",
    "text - content body\n",
    "\n",
    "title - title of sample"
   ]
  },
  {
   "cell_type": "code",
   "execution_count": 65,
   "id": "crude-hormone",
   "metadata": {},
   "outputs": [],
   "source": [
    "text_im1_t = df_dist[df_dist['label']==0]['text_img1'].to_numpy()\n",
    "text_im1_f = df_dist[df_dist['label']==1]['text_img1'].to_numpy()"
   ]
  },
  {
   "cell_type": "code",
   "execution_count": 66,
   "id": "express-queens",
   "metadata": {},
   "outputs": [],
   "source": [
    "title_im1_t = df_dist[df_dist['label']==0]['title_img1'].to_numpy()\n",
    "title_im1_f = df_dist[df_dist['label']==1]['title_img1'].to_numpy()"
   ]
  },
  {
   "cell_type": "code",
   "execution_count": 67,
   "id": "minor-bearing",
   "metadata": {},
   "outputs": [],
   "source": [
    "text_ims_t = np.concatenate((df_dist[df_dist['label']==0]['text_img2'].dropna().to_numpy(), df_dist[df_dist['label']==0]['text_img3'].dropna().to_numpy()))\n",
    "text_ims_f = np.concatenate((df_dist[df_dist['label']==1]['text_img2'].dropna().to_numpy(), df_dist[df_dist['label']==1]['text_img3'].dropna().to_numpy()))"
   ]
  },
  {
   "cell_type": "code",
   "execution_count": 68,
   "id": "blessed-thumb",
   "metadata": {},
   "outputs": [],
   "source": [
    "title_ims_t = np.concatenate((df_dist[df_dist['label']==0]['title_img2'].dropna().to_numpy(), df_dist[df_dist['label']==0]['title_img3'].dropna().to_numpy()))\n",
    "title_ims_f = np.concatenate((df_dist[df_dist['label']==1]['title_img2'].dropna().to_numpy(), df_dist[df_dist['label']==1]['title_img3'].dropna().to_numpy()))"
   ]
  },
  {
   "cell_type": "code",
   "execution_count": 76,
   "id": "frank-parcel",
   "metadata": {},
   "outputs": [],
   "source": [
    "title_text_t = df_dist[df_dist['label']==0]['title_text']\n",
    "title_text_f = df_dist[df_dist['label']==1]['title_text']"
   ]
  },
  {
   "cell_type": "code",
   "execution_count": 84,
   "id": "final-bahamas",
   "metadata": {},
   "outputs": [],
   "source": [
    "im1_ims_t = np.concatenate((df_dist[df_dist['label']==0]['img1_img2'].dropna().to_numpy(), df_dist[df_dist['label']==0]['img1_img3'].dropna().to_numpy()))\n",
    "im1_ims_f = np.concatenate((df_dist[df_dist['label']==1]['img1_img2'].dropna().to_numpy(), df_dist[df_dist['label']==1]['img1_img3'].dropna().to_numpy()))"
   ]
  },
  {
   "cell_type": "code",
   "execution_count": 69,
   "id": "precise-charger",
   "metadata": {},
   "outputs": [],
   "source": [
    "## For statistical tests\n",
    "from scipy.stats import mannwhitneyu, f_oneway, kruskal"
   ]
  },
  {
   "cell_type": "markdown",
   "id": "indian-measure",
   "metadata": {},
   "source": [
    "## Title is closer to 1st image when article is real than fake"
   ]
  },
  {
   "cell_type": "code",
   "execution_count": 70,
   "id": "legal-likelihood",
   "metadata": {},
   "outputs": [
    {
     "data": {
      "image/png": "[encoded data removed]",
      "text/plain": [
       "<Figure size 432x288 with 1 Axes>"
      ]
     },
     "metadata": {
      "needs_background": "light"
     },
     "output_type": "display_data"
    }
   ],
   "source": [
    "sns.kdeplot(title_im1_t, label=\"Title+1stImage+Real\")\n",
    "sns.kdeplot(title_im1_f, label=\"Title+1stImage+Fake\")\n",
    "plt.legend()\n",
    "plt.show()"
   ]
  },
  {
   "cell_type": "markdown",
   "id": "cultural-experiment",
   "metadata": {},
   "source": [
    "## Title is far away from from first image when article is real than the other images peresnt (ie, to get the attention) "
   ]
  },
  {
   "cell_type": "code",
   "execution_count": 71,
   "id": "unlike-disease",
   "metadata": {},
   "outputs": [
    {
     "data": {
      "image/png": "[encoded data removed]",
      "text/plain": [
       "<Figure size 432x288 with 1 Axes>"
      ]
     },
     "metadata": {
      "needs_background": "light"
     },
     "output_type": "display_data"
    }
   ],
   "source": [
    "sns.kdeplot(title_im1_f, label=\"Title+1stImage+Fake\")\n",
    "sns.kdeplot(title_ims_f, label=\"Title+OtherImages+Fake\")\n",
    "plt.legend()\n",
    "plt.show()"
   ]
  },
  {
   "cell_type": "code",
   "execution_count": 72,
   "id": "blond-liabilities",
   "metadata": {},
   "outputs": [
    {
     "name": "stdout",
     "output_type": "stream",
     "text": [
      "Statistics=134.754, p=0.000\n",
      "Different distributions (reject H0)\n"
     ]
    }
   ],
   "source": [
    "# compare samples\n",
    "stat, p = f_oneway(title_im1_f, title_ims_f)\n",
    "print('Statistics=%.3f, p=%.3f' % (stat, p))\n",
    "# interpret\n",
    "alpha = 0.05\n",
    "if p > alpha:\n",
    "\tprint('Same distributions (fail to reject H0)')\n",
    "else:\n",
    "\tprint('Different distributions (reject H0)')"
   ]
  },
  {
   "cell_type": "code",
   "execution_count": 73,
   "id": "outdoor-daily",
   "metadata": {},
   "outputs": [
    {
     "name": "stdout",
     "output_type": "stream",
     "text": [
      "Statistics=1120135.000, p=0.000\n",
      "Different distribution (reject H0)\n"
     ]
    }
   ],
   "source": [
    "# compare samples\n",
    "stat, p = mannwhitneyu(title_im1_f, title_ims_f)\n",
    "\n",
    "print('Statistics=%.3f, p=%.3f' % (stat, p))\n",
    "# interpret\n",
    "alpha = 0.05\n",
    "if p > alpha:\n",
    "\tprint('Same distribution (fail to reject H0)')\n",
    "else:\n",
    "\tprint('Different distribution (reject H0)')"
   ]
  },
  {
   "cell_type": "code",
   "execution_count": 74,
   "id": "corrected-mobility",
   "metadata": {},
   "outputs": [
    {
     "name": "stdout",
     "output_type": "stream",
     "text": [
      "Statistics=176.371, p=0.000\n",
      "Different distributions (reject H0)\n"
     ]
    }
   ],
   "source": [
    "# compare samples\n",
    "stat, p = kruskal(title_im1_f, title_ims_f)\n",
    "print('Statistics=%.3f, p=%.3f' % (stat, p))\n",
    "# interpret\n",
    "alpha = 0.05\n",
    "if p > alpha:\n",
    "\tprint('Same distributions (fail to reject H0)')\n",
    "else:\n",
    "\tprint('Different distributions (reject H0)')"
   ]
  },
  {
   "cell_type": "markdown",
   "id": "explicit-contract",
   "metadata": {},
   "source": [
    "## Distance between Image1 and other images is less when sample is real"
   ]
  },
  {
   "cell_type": "code",
   "execution_count": 86,
   "id": "abandoned-basketball",
   "metadata": {},
   "outputs": [
    {
     "data": {
      "image/png": "[encoded data removed]",
      "text/plain": [
       "<Figure size 432x288 with 1 Axes>"
      ]
     },
     "metadata": {
      "needs_background": "light"
     },
     "output_type": "display_data"
    }
   ],
   "source": [
    "sns.kdeplot(im1_ims_t, label=\"1stImage+OtherImages+Real\")\n",
    "sns.kdeplot(im1_ims_f, label=\"1stImage+OtherImages+Fake\")\n",
    "plt.legend()\n",
    "plt.show()"
   ]
  },
  {
   "cell_type": "code",
   "execution_count": 87,
   "id": "binding-chance",
   "metadata": {},
   "outputs": [
    {
     "name": "stdout",
     "output_type": "stream",
     "text": [
      "Statistics=146.422, p=0.000\n",
      "Different distributions (reject H0)\n"
     ]
    }
   ],
   "source": [
    "# compare samples\n",
    "stat, p = f_oneway(im1_ims_t, im1_ims_f)\n",
    "print('Statistics=%.3f, p=%.3f' % (stat, p))\n",
    "# interpret\n",
    "alpha = 0.05\n",
    "if p > alpha:\n",
    "\tprint('Same distributions (fail to reject H0)')\n",
    "else:\n",
    "\tprint('Different distributions (reject H0)')"
   ]
  },
  {
   "cell_type": "code",
   "execution_count": 88,
   "id": "nominated-allergy",
   "metadata": {},
   "outputs": [
    {
     "name": "stdout",
     "output_type": "stream",
     "text": [
      "Statistics=289195.000, p=0.000\n",
      "Different distribution (reject H0)\n"
     ]
    }
   ],
   "source": [
    "# compare samples\n",
    "stat, p = mannwhitneyu(im1_ims_t, im1_ims_f)\n",
    "\n",
    "print('Statistics=%.3f, p=%.3f' % (stat, p))\n",
    "# interpret\n",
    "alpha = 0.05\n",
    "if p > alpha:\n",
    "\tprint('Same distribution (fail to reject H0)')\n",
    "else:\n",
    "\tprint('Different distribution (reject H0)')"
   ]
  },
  {
   "cell_type": "code",
   "execution_count": 89,
   "id": "exclusive-closer",
   "metadata": {},
   "outputs": [
    {
     "name": "stdout",
     "output_type": "stream",
     "text": [
      "Statistics=195.448, p=0.000\n",
      "Different distributions (reject H0)\n"
     ]
    }
   ],
   "source": [
    "# compare samples\n",
    "stat, p = kruskal(im1_ims_t, im1_ims_f)\n",
    "print('Statistics=%.3f, p=%.3f' % (stat, p))\n",
    "# interpret\n",
    "alpha = 0.05\n",
    "if p > alpha:\n",
    "\tprint('Same distributions (fail to reject H0)')\n",
    "else:\n",
    "\tprint('Different distributions (reject H0)')"
   ]
  },
  {
   "cell_type": "code",
   "execution_count": 63,
   "id": "cooperative-millennium",
   "metadata": {},
   "outputs": [
    {
     "name": "stdout",
     "output_type": "stream",
     "text": [
      "Statistics=134.754, p=0.000\n",
      "Different distributions (reject H0)\n"
     ]
    }
   ],
   "source": [
    "# compare samples\n",
    "stat, p = f_oneway(text_im1_f, text_ims_f)\n",
    "print('Statistics=%.3f, p=%.3f' % (stat, p))\n",
    "# interpret\n",
    "alpha = 0.05\n",
    "if p > alpha:\n",
    "\tprint('Same distributions (fail to reject H0)')\n",
    "else:\n",
    "\tprint('Different distributions (reject H0)')"
   ]
  }
 ],
 "metadata": {
  "kernelspec": {
   "display_name": "python-fakenews",
   "language": "python",
   "name": "fakenews"
  },
  "language_info": {
   "codemirror_mode": {
    "name": "ipython",
    "version": 3
   },
   "file_extension": ".py",
   "mimetype": "text/x-python",
   "name": "python",
   "nbconvert_exporter": "python",
   "pygments_lexer": "ipython3",
   "version": "3.7.9"
  }
 },
 "nbformat": 4,
 "nbformat_minor": 5
}
